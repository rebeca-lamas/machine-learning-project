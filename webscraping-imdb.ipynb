{
 "cells": [
  {
   "cell_type": "code",
   "execution_count": 1,
   "metadata": {},
   "outputs": [],
   "source": [
    "from bs4 import BeautifulSoup as bs\n",
    "import bs4\n",
    "import pandas as pd\n",
    "import requests\n",
    "import json\n",
    "from pprint import pprint\n",
    "import ast\n",
    "import pandas as pd"
   ]
  },
  {
   "cell_type": "code",
   "execution_count": 2,
   "metadata": {},
   "outputs": [],
   "source": [
    "url_2020 = \"https://www.imdb.com/list/ls071285764/\"\n",
    "url_2019 = \"https://www.imdb.com/list/ls071285512/\"\n",
    "url_2018 = \"https://www.imdb.com/list/ls058813655/\"\n",
    "url_2017 = \"https://www.imdb.com/list/ls058982125/\"\n",
    "url_2016 = \"https://www.imdb.com/list/ls058938704/\"\n",
    "url_list = [url_2016, url_2017, url_2018, url_2019, url_2020]"
   ]
  },
  {
   "cell_type": "code",
   "execution_count": 3,
   "metadata": {},
   "outputs": [
    {
     "name": "stdout",
     "output_type": "stream",
     "text": [
      "finished 2016\n",
      "finished 2017\n",
      "finished 2018\n",
      "finished 2019\n",
      "finished 2020\n"
     ]
    }
   ],
   "source": [
    "movie_list_id_2016 = []\n",
    "movie_list_id_2017 = []\n",
    "movie_list_id_2018 = []\n",
    "movie_list_id_2019 = []\n",
    "movie_list_id_2020 = []\n",
    "for url in url_list:\n",
    "    response = requests.get(url)\n",
    "    soup = bs(response.text, \"html.parser\")\n",
    "    s = soup.findAll('script')\n",
    "    data = s[11]\n",
    "    paragraphs = []\n",
    "    for x in data:\n",
    "        paragraphs.append(str(x))\n",
    "    data = paragraphs[0].replace(\"\\n\",\"\") \n",
    "    data = \" \".join(data.split())\n",
    "    data = data.split('\"itemListElement\": [ ')\n",
    "    data = data[1]\n",
    "    data = data.split(' ] }, \"dateModified\":')\n",
    "    data = data[0]\n",
    "    data = ast.literal_eval(data)\n",
    "    data = list(data)\n",
    "    if url == url_2016:\n",
    "        for i in range(len(data)):\n",
    "            movie_url = data[i]['url']\n",
    "            split = movie_url.split('title/')\n",
    "            movie_id = split[1]\n",
    "            movie_id = movie_id.replace('/', '')\n",
    "            movie_list_id_2016.append(movie_id)\n",
    "        print('finished 2016')\n",
    "    elif url == url_2017:\n",
    "        for i in range(len(data)):\n",
    "            movie_url = data[i]['url']\n",
    "            split = movie_url.split('title/')\n",
    "            movie_id = split[1]\n",
    "            movie_id = movie_id.replace('/', '')\n",
    "            movie_list_id_2017.append(movie_id)\n",
    "        print('finished 2017')\n",
    "    elif url == url_2018:\n",
    "        for i in range(len(data)):\n",
    "            movie_url = data[i]['url']\n",
    "            split = movie_url.split('title/')\n",
    "            movie_id = split[1]\n",
    "            movie_id = movie_id.replace('/', '')\n",
    "            movie_list_id_2018.append(movie_id)\n",
    "        print('finished 2018')\n",
    "    elif url == url_2019:\n",
    "        for i in range(len(data)):\n",
    "            movie_url = data[i]['url']\n",
    "            split = movie_url.split('title/')\n",
    "            movie_id = split[1]\n",
    "            movie_id = movie_id.replace('/', '')\n",
    "            movie_list_id_2019.append(movie_id)\n",
    "        print('finished 2019')\n",
    "    else:\n",
    "        for i in range(len(data)):\n",
    "            movie_url = data[i]['url']\n",
    "            split = movie_url.split('title/')\n",
    "            movie_id = split[1]\n",
    "            movie_id = movie_id.replace('/', '')\n",
    "            movie_list_id_2020.append(movie_id)\n",
    "        print('finished 2020')"
   ]
  },
  {
   "cell_type": "code",
   "execution_count": 4,
   "metadata": {},
   "outputs": [
    {
     "name": "stdout",
     "output_type": "stream",
     "text": [
      "2016 movies: ['tt2975590', 'tt3498820', 'tt3385516', 'tt3040964', 'tt2094766', 'tt2381991', 'tt2869728', 'tt2567026', 'tt2277860', 'tt1985949', 'tt0918940', 'tt3416828', 'tt2660888', 'tt3183660', 'tt3410834', 'tt1211837', 'tt3110958', 'tt3949660', 'tt1431045', 'tt3065204', 'tt3691740', 'tt0475290', 'tt1386697', 'tt2267968', 'tt2404233', 'tt3748528', 'tt4094724', 'tt3062096', 'tt3381008', 'tt1628841', 'tt1489889', 'tt3300542', 'tt1355644', 'tt4438848', 'tt1289401', 'tt3717252', 'tt3393786', 'tt2304933', 'tt3387542', 'tt0803096', 'tt4196776', 'tt3553442', 'tt1292566', 'tt1712261', 'tt2709768', 'tt2948356', 'tt2788732', 'tt4667094', 'tt1860213', 'tt2702724', 'tt1608290', 'tt2140037', 'tt1468846', 'tt1355631', 'tt4680182', 'tt2140479', 'tt2461150', 'tt1374989', 'tt1179933', 'tt2649554', 'tt1679335', 'tt1700841', 'tt1935859', 'tt4052882', 'tt4824308', 'tt3671086', 'tt2005151', 'tt1860357', 'tt3628584', 'tt2404435', 'tt4139124', 'tt3882082', 'tt3774114', 'tt4034354', 'tt2592614', 'tt2025690', 'tt4520364', 'tt4769836', 'tt3521164', 'tt3702652', 'tt2667380', 'tt4172430', 'tt3799694', 'tt2823054', 'tt2937696', 'tt2543164', 'tt2368619', 'tt0775440', 'tt2091935', 'tt3416532', 'tt3352390', 'tt2361317', 'tt1800302', 'tt1974419', 'tt1542768', 'tt2034800', 'tt4669186', 'tt4786282', 'tt3701714', 'tt4651520', 'tt3263904', 'tt4160708', 'tt4781612', 'tt3014866', 'tt2638144', 'tt2980210', 'tt1878841', 'tt4824302', 'tt3733774', 'tt2582782', 'tt4302938', 'tt3522806', 'tt1703957', 'tt2241351', 'tt1878870', 'tt4649416', 'tt1798603', 'tt1711525', 'tt2106651', 'tt4501244', 'tt3783958', 'tt4361050', 'tt3640424', 'tt4972582', 'tt1183374', 'tt4540710', 'tt4572514', 'tt4276820', 'tt2387499', 'tt4778988', 'tt5203824', 'tt4443658']\n",
      "2017 movies: ['tt3501632', 'tt0451279', 'tt3896198', 'tt3315342', 'tt3469046', 'tt1790809', 'tt0974015', 'tt2527336', 'tt3731562', 'tt3450958', 'tt1219827', 'tt2250912', 'tt4116284', 'tt2771200', 'tt2398241', 'tt4630562', 'tt4465564', 'tt4765284', 'tt3371366', 'tt3717490', 'tt2345759', 'tt4468740', 'tt2316204', 'tt4649466', 'tt4877122', 'tt1293847', 'tt2283362', 'tt1469304', 'tt1396484', 'tt1856101', 'tt4425200', 'tt3401882', 'tt3486626', 'tt2380307', 'tt5140878', 'tt4799050', 'tt1959563', 'tt2239822', 'tt3348730', 'tt3014284', 'tt0498381', 'tt1966359', 'tt3922818', 'tt2568862', 'tt5442430', 'tt5513260', 'tt5155780', 'tt1981128', 'tt4287320', 'tt1972591', 'tt5657846', 'tt6359956', 'tt2406566', 'tt5013056', 'tt3890160', 'tt3564472', 'tt1648190', 'tt5052448', 'tt2334871', 'tt3874544', 'tt4917224', 'tt1758810', 'tt0493405', 'tt4694544', 'tt4209788', 'tt5109784', 'tt4633690', 'tt4899370', 'tt5439796', 'tt1734493', 'tt1666185', 'tt6265828', 'tt3532216', 'tt2932536', 'tt1131724', 'tt4846232', 'tt2331047', 'tt3411444', 'tt3758172', 'tt5962210', 'tt5362988', 'tt5308322', 'tt2039338', 'tt3521126', 'tt1961175', 'tt6225520', 'tt1615160', 'tt5519340', 'tt4738174', 'tt2226597', 'tt3462710', 'tt3296908', 'tt5580036', 'tt6018306', 'tt5301662', 'tt5294550', 'tt1785635', 'tt6204340', 'tt1653665', 'tt3266284', 'tt1389072', 'tt5752606', 'tt5638642', 'tt4547194', 'tt4695012']\n",
      "2018 movies: ['tt4154756', 'tt1477834', 'tt3778644', 'tt4123430', 'tt1825683', 'tt4477536', 'tt4633694', 'tt4881806', 'tt5095030', 'tt5220122', 'tt2296777', 'tt4701182', 'tt2709692', 'tt5848272', 'tt2557478', 'tt4500922', 'tt1365519', 'tt5463162', 'tt1677720', 'tt3829266', 'tt5028340', 'tt5523010', 'tt5164214', 'tt3606756', 'tt4912910', 'tt3766354', 'tt2231461', 'tt1270797', 'tt6513656', 'tt5814060', 'tt6133466', 'tt6343314', 'tt5726086', 'tt2798920', 'tt5052474', 'tt6911608', 'tt1620680', 'tt1413492', 'tt1502407', 'tt6921996', 'tt7170950', 'tt1571234', 'tt1590193', 'tt5758778', 'tt6421110', 'tt1259528', 'tt1072748', 'tt5117670', 'tt6802308', 'tt4701724', 'tt6951892', 'tt2704998', 'tt2873282', 'tt4244998', 'tt1137450', 'tt1285009', 'tt5360952', 'tt5466186', 'tt1727824', 'tt2548396', 'tt6684714', 'tt6644200', 'tt5783956', 'tt5104604', 'tt6663582', 'tt5619332', 'tt4463816', 'tt5397194', 'tt3685236', 'tt4779682', 'tt4575576', 'tt1563742', 'tt7256866', 'tt6791096', 'tt4532826', 'tt2854926', 'tt1213641', 'tt3201640', 'tt7690670', 'tt6850820', 'tt2531344', 'tt7349662', 'tt6499752', 'tt4560436', 'tt5690360', 'tt2119543', 'tt6182908', 'tt5177088', 'tt6781982', 'tt4073790', 'tt2140629', 'tt1517451', 'tt2388771', 'tt5254610', 'tt7242142', 'tt7040874', 'tt2990140', 'tt2737304', 'tt7284204', 'tt3722234', 'tt4218572', 'tt5461944', 'tt3104988']\n",
      "2019 movies: ['tt4154796', 'tt2527338', 'tt4154664', 'tt0448115', 'tt3861390', 'tt3741700', 'tt3513498', 'tt6320628', 'tt2386490', 'tt1979376', 'tt5113040', 'tt4520988', 'tt6095472', 'tt6450804', 'tt6146586', 'tt7349950', 'tt2283336', 'tt2139881', 'tt7329656', 'tt7131622', 'tt6139732', 'tt5884052', 'tt2274648', 'tt6105098', 'tt6565702', 'tt7975244', 'tt6823368', 'tt6513120', 'tt1206885', 'tt7634968', 'tt1560220', 'tt5033998', 'tt6806448', 'tt8155288', 'tt7286456', 'tt0437086', 'tt2935510', 'tt1620981', 'tt5968394', 'tt6476140', 'tt8946378', 'tt5886046', 'tt2452244', 'tt6857112', 'tt7043012', 'tt3256226', 'tt5316540', 'tt1298644', 'tt4777008', 'tt8350360', 'tt0837563', 'tt1488606', 'tt4463894', 'tt6198946', 'tt5822564', 'tt7456310', 'tt6259380', 'tt1618434', 'tt8663516', 'tt8364368', 'tt2499472', 'tt5598292', 'tt1025100', 'tt7343762', 'tt6189022', 'tt4995776', 'tt7958736', 'tt3361792', 'tt5097410', 'tt9243946', 'tt5719748', 'tt1950235', 'tt5606664', 'tt8623904', 'tt7798634', 'tt4729430', 'tt1302006', 'tt6924650', 'tt5697572', 'tt8096832', 'tt8106534']\n",
      "2020 movies: ['tt7126948', 'tt5034838', 'tt5108870', 'tt5109280', 'tt5113044', 'tt6587640', 'tt7097896', 'tt5433138', 'tt2850386', 'tt2813796', 'tt4823776', 'tt4566758', 'tt1502397', 'tt8332922', 'tt8376234', 'tt7991608', 'tt1745960', 'tt1517268', 'tt7713068', 'tt2382320', 'tt0870154', 'tt6673612', 'tt4513678', 'tt7146812', 'tt2076822', 'tt1160419', 'tt9844522', 'tt8385148', 'tt5822536', 'tt7069210', 'tt6856242', 'tt9032400', 'tt1051906', 'tt4682266', 'tt3794354', 'tt3480822', 'tt6264654', 'tt3152592', 'tt0805647', 'tt5774060', 'tt8242084', 'tt1464335', 'tt4712810', 'tt10160976']\n"
     ]
    }
   ],
   "source": [
    "print(f'2016 movies: {movie_list_id_2016}')\n",
    "print(f'2017 movies: {movie_list_id_2017}')\n",
    "print(f'2018 movies: {movie_list_id_2018}')\n",
    "print(f'2019 movies: {movie_list_id_2019}')\n",
    "print(f'2020 movies: {movie_list_id_2020}')"
   ]
  },
  {
   "cell_type": "code",
   "execution_count": 17,
   "metadata": {},
   "outputs": [],
   "source": [
    "df_2016 = pd.DataFrame({\"2016_movies\": movie_list_id_2016})\n",
    "export_2016 = df_2016.to_csv(\"Resources/movies_titles_2016.csv\", index = None, header=True)"
   ]
  },
  {
   "cell_type": "code",
   "execution_count": 12,
   "metadata": {},
   "outputs": [],
   "source": [
    "df_2017 = pd.DataFrame({\"2017_movies\": movie_list_id_2017})\n",
    "export_2017 = df_2017.to_csv(\"Resources/movies_titles_2017.csv\", index = None, header=True)"
   ]
  },
  {
   "cell_type": "code",
   "execution_count": 13,
   "metadata": {},
   "outputs": [],
   "source": [
    "df_2018 = pd.DataFrame({\"2018_movies\": movie_list_id_2018})\n",
    "export_2018 = df_2018.to_csv(\"Resources/movies_titles_2018.csv\", index = None, header=True)"
   ]
  },
  {
   "cell_type": "code",
   "execution_count": 14,
   "metadata": {},
   "outputs": [],
   "source": [
    "df_2019 = pd.DataFrame({\"2019_movies\": movie_list_id_2019})\n",
    "export_2019 = df_2019.to_csv(\"Resources/movies_titles_2019.csv\", index = None, header=True)"
   ]
  },
  {
   "cell_type": "code",
   "execution_count": 15,
   "metadata": {},
   "outputs": [],
   "source": [
    "df_2020 = pd.DataFrame({\"2020_movies\": movie_list_id_2020})\n",
    "export_2020 = df_2020.to_csv(\"Resources/movies_titles_2020.csv\", index = None, header=True)"
   ]
  },
  {
   "cell_type": "code",
   "execution_count": null,
   "metadata": {},
   "outputs": [],
   "source": []
  }
 ],
 "metadata": {
  "kernelspec": {
   "display_name": "Python 3",
   "language": "python",
   "name": "python3"
  },
  "language_info": {
   "codemirror_mode": {
    "name": "ipython",
    "version": 3
   },
   "file_extension": ".py",
   "mimetype": "text/x-python",
   "name": "python",
   "nbconvert_exporter": "python",
   "pygments_lexer": "ipython3",
   "version": "3.7.4"
  }
 },
 "nbformat": 4,
 "nbformat_minor": 2
}
