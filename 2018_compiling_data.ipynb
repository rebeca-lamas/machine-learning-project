{
 "cells": [
  {
   "cell_type": "code",
   "execution_count": 2,
   "metadata": {
    "scrolled": true
   },
   "outputs": [
    {
     "ename": "ModuleNotFoundError",
     "evalue": "No module named 'config'",
     "output_type": "error",
     "traceback": [
      "\u001b[1;31m---------------------------------------------------------------------------\u001b[0m",
      "\u001b[1;31mModuleNotFoundError\u001b[0m                       Traceback (most recent call last)",
      "\u001b[1;32m<ipython-input-2-d01c452eacc5>\u001b[0m in \u001b[0;36m<module>\u001b[1;34m\u001b[0m\n\u001b[0;32m      4\u001b[0m \u001b[1;32mimport\u001b[0m \u001b[0mtime\u001b[0m\u001b[1;33m\u001b[0m\u001b[1;33m\u001b[0m\u001b[0m\n\u001b[0;32m      5\u001b[0m \u001b[1;32mfrom\u001b[0m \u001b[0mpprint\u001b[0m \u001b[1;32mimport\u001b[0m \u001b[0mpprint\u001b[0m\u001b[1;33m\u001b[0m\u001b[1;33m\u001b[0m\u001b[0m\n\u001b[1;32m----> 6\u001b[1;33m \u001b[1;32mfrom\u001b[0m \u001b[0mconfig\u001b[0m \u001b[1;32mimport\u001b[0m \u001b[0mAPI_KEY\u001b[0m\u001b[1;33m\u001b[0m\u001b[1;33m\u001b[0m\u001b[0m\n\u001b[0m",
      "\u001b[1;31mModuleNotFoundError\u001b[0m: No module named 'config'"
     ]
    }
   ],
   "source": [
    "import pandas as pd\n",
    "import requests\n",
    "import json\n",
    "import time\n",
    "from pprint import pprint\n",
    "from config import API_KEY"
   ]
  },
  {
   "cell_type": "code",
   "execution_count": 3,
   "metadata": {},
   "outputs": [
    {
     "data": {
      "text/plain": [
       "2018_movies    103\n",
       "dtype: int64"
      ]
     },
     "execution_count": 3,
     "metadata": {},
     "output_type": "execute_result"
    }
   ],
   "source": [
    "data = pd.read_csv('Resources/movies_titles_2018.csv')\n",
    "df =  data.groupby('2018_movies').nunique().count()\n",
    "df"
   ]
  },
  {
   "cell_type": "code",
   "execution_count": 4,
   "metadata": {},
   "outputs": [],
   "source": [
    "box_office_list = []\n",
    "country_list = []\n",
    "genre_list = []\n",
    "director_list = []\n",
    "metascore_list = []\n",
    "production_list = []\n",
    "rating_list = []\n",
    "IMDB_rating_list = [] \n",
    "rotten_tomatoes_rating_list = []\n",
    "runtime_list = []\n",
    "title_list = []\n",
    "type_list = []\n",
    "imdb_votes_list = []"
   ]
  },
  {
   "cell_type": "code",
   "execution_count": 5,
   "metadata": {},
   "outputs": [],
   "source": [
    "movies = data['2018_movies']\n",
    "total_movies = len(movies)"
   ]
  },
  {
   "cell_type": "code",
   "execution_count": 6,
   "metadata": {},
   "outputs": [
    {
     "ename": "NameError",
     "evalue": "name 'API_KEY' is not defined",
     "output_type": "error",
     "traceback": [
      "\u001b[1;31m---------------------------------------------------------------------------\u001b[0m",
      "\u001b[1;31mNameError\u001b[0m                                 Traceback (most recent call last)",
      "\u001b[1;32m<ipython-input-6-2cd5ea3197e6>\u001b[0m in \u001b[0;36m<module>\u001b[1;34m\u001b[0m\n\u001b[0;32m      1\u001b[0m \u001b[1;32mfor\u001b[0m \u001b[0mi\u001b[0m \u001b[1;32min\u001b[0m \u001b[0mrange\u001b[0m\u001b[1;33m(\u001b[0m\u001b[0mtotal_movies\u001b[0m\u001b[1;33m)\u001b[0m\u001b[1;33m:\u001b[0m\u001b[1;33m\u001b[0m\u001b[1;33m\u001b[0m\u001b[0m\n\u001b[0;32m      2\u001b[0m     \u001b[0mmovie\u001b[0m \u001b[1;33m=\u001b[0m \u001b[0mmovies\u001b[0m\u001b[1;33m[\u001b[0m\u001b[0mi\u001b[0m\u001b[1;33m]\u001b[0m\u001b[1;33m\u001b[0m\u001b[1;33m\u001b[0m\u001b[0m\n\u001b[1;32m----> 3\u001b[1;33m     \u001b[0murl\u001b[0m \u001b[1;33m=\u001b[0m \u001b[1;34m\"http://www.omdbapi.com/?i=\"\u001b[0m \u001b[1;33m+\u001b[0m \u001b[0mmovie\u001b[0m \u001b[1;33m+\u001b[0m \u001b[1;34m\"&apikey=\"\u001b[0m \u001b[1;33m+\u001b[0m \u001b[0mAPI_KEY\u001b[0m\u001b[1;33m\u001b[0m\u001b[1;33m\u001b[0m\u001b[0m\n\u001b[0m\u001b[0;32m      4\u001b[0m     \u001b[0mresponse\u001b[0m \u001b[1;33m=\u001b[0m \u001b[1;33m(\u001b[0m\u001b[0mrequests\u001b[0m\u001b[1;33m.\u001b[0m\u001b[0mget\u001b[0m\u001b[1;33m(\u001b[0m\u001b[0murl\u001b[0m\u001b[1;33m)\u001b[0m\u001b[1;33m.\u001b[0m\u001b[0mtext\u001b[0m\u001b[1;33m)\u001b[0m\u001b[1;33m\u001b[0m\u001b[1;33m\u001b[0m\u001b[0m\n\u001b[0;32m      5\u001b[0m     \u001b[0mresponse_json\u001b[0m \u001b[1;33m=\u001b[0m \u001b[0mjson\u001b[0m\u001b[1;33m.\u001b[0m\u001b[0mloads\u001b[0m\u001b[1;33m(\u001b[0m\u001b[0mresponse\u001b[0m\u001b[1;33m)\u001b[0m\u001b[1;33m\u001b[0m\u001b[1;33m\u001b[0m\u001b[0m\n",
      "\u001b[1;31mNameError\u001b[0m: name 'API_KEY' is not defined"
     ]
    }
   ],
   "source": [
    "for i in range(total_movies):\n",
    "    movie = movies[i]\n",
    "    url = \"http://www.omdbapi.com/?i=\" + movie + \"&apikey=\" + API_KEY\n",
    "    response = (requests.get(url).text)\n",
    "    response_json = json.loads(response)\n",
    "    \n",
    "    pprint(response_json)\n",
    "    \n",
    "    box_office_list.append(response_json['BoxOffice'])\n",
    "    country_list.append(response_json['Country'])\n",
    "    genre_list.append(response_json['Genre'])\n",
    "    director_list.append(response_json['Director'])\n",
    "    metascore_list.append(response_json['Metascore'])\n",
    "    production_list.append(response_json['Production'])\n",
    "    rating_list.append(response_json['Rated'])\n",
    "    IMDB_rating_list.append(response_json['imdbRating'])\n",
    "    try:\n",
    "        if not response_json['Ratings']:\n",
    "            rotten_tomatoes_rating_list.append('NA')\n",
    "        elif response_json['Ratings'][0]['Source'] == 'Rotten Tomatoes':\n",
    "            rotten_tomatoes_rating_list.append(response_json['Ratings'][0]['Value'])\n",
    "        elif response_json['Ratings'][1]['Source'] == 'Rotten Tomatoes':\n",
    "            rotten_tomatoes_rating_list.append(response_json['Ratings'][1]['Value'])\n",
    "        else:\n",
    "            rotten_tomatoes_rating_list.append('NA')\n",
    "    except IndexError:\n",
    "        rotten_tomatoes_rating_list.append('NA')\n",
    "    runtime_list.append(response_json['Runtime'])\n",
    "    title_list.append(response_json['Title'])\n",
    "    type_list.append(response_json['Type'])\n",
    "    imdb_votes_list.append(response_json['imdbVotes']) "
   ]
  },
  {
   "cell_type": "code",
   "execution_count": 6,
   "metadata": {},
   "outputs": [
    {
     "data": {
      "text/plain": [
       "103"
      ]
     },
     "execution_count": 6,
     "metadata": {},
     "output_type": "execute_result"
    }
   ],
   "source": [
    "len(rotten_tomatoes_rating_list)"
   ]
  },
  {
   "cell_type": "code",
   "execution_count": 7,
   "metadata": {},
   "outputs": [],
   "source": [
    "data['title'] = title_list\n",
    "data['box_office'] = box_office_list\n",
    "data['country'] = country_list\n",
    "data['genre'] = genre_list\n",
    "data['director'] = director_list\n",
    "data['metascore'] = metascore_list\n",
    "data['production'] = production_list\n",
    "data['rating'] = rating_list\n",
    "data['IMDB_rating'] = IMDB_rating_list\n",
    "data['rotten_tomatoes_rating'] = rotten_tomatoes_rating_list\n",
    "data['runtime'] = runtime_list\n",
    "data['type'] = type_list\n",
    "data['IMDB_votes'] = imdb_votes_list"
   ]
  },
  {
   "cell_type": "code",
   "execution_count": 8,
   "metadata": {},
   "outputs": [
    {
     "data": {
      "text/plain": [
       "USA                                        53\n",
       "UK, USA                                     8\n",
       "China, USA                                  4\n",
       "Canada, USA                                 3\n",
       "USA, Mexico                                 2\n",
       "USA, Australia                              2\n",
       "USA, Canada                                 2\n",
       "Hong Kong, USA                              2\n",
       "USA, South Korea                            1\n",
       "UK, China, Japan, USA                       1\n",
       "Germany, USA, Canada                        1\n",
       "USA, India                                  1\n",
       "USA, Canada, India                          1\n",
       "UK, USA, India, Canada, France, Belgium     1\n",
       "France, USA                                 1\n",
       "UK                                          1\n",
       "USA, Japan                                  1\n",
       "Australia, USA                              1\n",
       "USA, New Zealand                            1\n",
       "UK, USA, Japan                              1\n",
       "Canada                                      1\n",
       "Ireland, UK, Hong Kong, Hungary, USA        1\n",
       "China, USA, Colombia                        1\n",
       "USA, China, France, Norway, UK              1\n",
       "USA, UK, France                             1\n",
       "Germany, Sweden, USA                        1\n",
       "UK, USA, France, Malta                      1\n",
       "USA, China                                  1\n",
       "Australia, USA, UK, India, Singapore        1\n",
       "UK, France, USA, China                      1\n",
       "Germany, USA                                1\n",
       "USA, UK                                     1\n",
       "Australia                                   1\n",
       "South Africa, USA                           1\n",
       "France, Japan, USA                          1\n",
       "Name: country, dtype: int64"
      ]
     },
     "execution_count": 8,
     "metadata": {},
     "output_type": "execute_result"
    }
   ],
   "source": [
    "#drop any movies that ddo not include USA for country: 1) Australia 2) UK, 3) Canada\n",
    "data['country'].value_counts()"
   ]
  },
  {
   "cell_type": "code",
   "execution_count": 9,
   "metadata": {},
   "outputs": [],
   "source": [
    "data = data[data.country != 'Australia']\n",
    "data = data[data.country != 'UK']\n",
    "data = data[data.country != 'Canada']"
   ]
  },
  {
   "cell_type": "code",
   "execution_count": 10,
   "metadata": {},
   "outputs": [],
   "source": [
    "data.to_csv('Resources/2018_movie_data.csv', index=False)"
   ]
  },
  {
   "cell_type": "code",
   "execution_count": null,
   "metadata": {},
   "outputs": [],
   "source": []
  }
 ],
 "metadata": {
  "kernelspec": {
   "display_name": "Python 3",
   "language": "python",
   "name": "python3"
  },
  "language_info": {
   "codemirror_mode": {
    "name": "ipython",
    "version": 3
   },
   "file_extension": ".py",
   "mimetype": "text/x-python",
   "name": "python",
   "nbconvert_exporter": "python",
   "pygments_lexer": "ipython3",
   "version": "3.7.3"
  }
 },
 "nbformat": 4,
 "nbformat_minor": 2
}
