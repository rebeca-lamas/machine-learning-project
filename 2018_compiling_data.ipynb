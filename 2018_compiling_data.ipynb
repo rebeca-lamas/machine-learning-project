{
 "cells": [
  {
   "cell_type": "code",
   "execution_count": 1,
   "metadata": {
    "scrolled": true
   },
   "outputs": [],
   "source": [
    "import pandas as pd\n",
    "import requests\n",
    "import json\n",
    "import time\n",
    "from pprint import pprint\n",
    "from config import API_KEY"
   ]
  },
  {
   "cell_type": "code",
   "execution_count": 2,
   "metadata": {},
   "outputs": [
    {
     "data": {
      "text/plain": [
       "2018_movies    103\n",
       "dtype: int64"
      ]
     },
     "execution_count": 2,
     "metadata": {},
     "output_type": "execute_result"
    }
   ],
   "source": [
    "data = pd.read_csv('Resources/movies_titles_2018.csv')\n",
    "df =  data.groupby('2018_movies').nunique().count()\n",
    "df"
   ]
  },
  {
   "cell_type": "code",
   "execution_count": 3,
   "metadata": {},
   "outputs": [],
   "source": [
    "box_office_list = []\n",
    "country_list = []\n",
    "genre_list = []\n",
    "director_list = []\n",
    "metascore_list = []\n",
    "production_list = []\n",
    "rating_list = []\n",
    "IMDB_rating_list = [] \n",
    "rotten_tomatoes_rating_list = []\n",
    "runtime_list = []\n",
    "title_list = []\n",
    "type_list = []\n",
    "imdb_votes_list = []"
   ]
  },
  {
   "cell_type": "code",
   "execution_count": 4,
   "metadata": {},
   "outputs": [],
   "source": [
    "movies = data['2018_movies']\n",
    "total_movies = len(movies)"
   ]
  },
  {
   "cell_type": "code",
   "execution_count": 5,
   "metadata": {},
   "outputs": [],
   "source": [
    "for i in range(total_movies):\n",
    "# for i in range(30):\n",
    "    movie = movies[i]\n",
    "    url = \"http://www.omdbapi.com/?i=\" + movie + \"&apikey=\" + API_KEY\n",
    "    response = (requests.get(url).text)\n",
    "    response_json = json.loads(response)\n",
    "    \n",
    "    box_office_list.append(response_json['BoxOffice'])\n",
    "    country_list.append(response_json['Country'])\n",
    "    genre_list.append(response_json['Genre'])\n",
    "    director_list.append(response_json['Director'])\n",
    "    metascore_list.append(response_json['Metascore'])\n",
    "    production_list.append(response_json['Production'])\n",
    "    rating_list.append(response_json['Rated'])\n",
    "    IMDB_rating_list.append(response_json['imdbRating'])\n",
    "    rotten_tomatoes_rating_list.append(response_json['Ratings'][1]['Value'])\n",
    "    runtime_list.append(response_json['Runtime'])\n",
    "    title_list.append(response_json['Title'])\n",
    "    type_list.append(response_json['Type'])\n",
    "    imdb_votes_list.append(response_json['imdbVotes']) "
   ]
  },
  {
   "cell_type": "code",
   "execution_count": 8,
   "metadata": {},
   "outputs": [
    {
     "ename": "NameError",
     "evalue": "name 'metacritic_rating' is not defined",
     "output_type": "error",
     "traceback": [
      "\u001b[1;31m---------------------------------------------------------------------------\u001b[0m",
      "\u001b[1;31mNameError\u001b[0m                                 Traceback (most recent call last)",
      "\u001b[1;32m<ipython-input-8-4be4ac5f9a4e>\u001b[0m in \u001b[0;36m<module>\u001b[1;34m\u001b[0m\n\u001b[1;32m----> 1\u001b[1;33m \u001b[0mlen\u001b[0m\u001b[1;33m(\u001b[0m\u001b[0mmetacritic_rating\u001b[0m\u001b[1;33m)\u001b[0m\u001b[1;33m\u001b[0m\u001b[1;33m\u001b[0m\u001b[0m\n\u001b[0m",
      "\u001b[1;31mNameError\u001b[0m: name 'metacritic_rating' is not defined"
     ]
    }
   ],
   "source": [
    "len(metacritic_rating)"
   ]
  },
  {
   "cell_type": "code",
   "execution_count": 9,
   "metadata": {},
   "outputs": [],
   "source": [
    "data['title'] = title_list\n",
    "data['box_office'] = box_office_list\n",
    "data['country'] = country_list\n",
    "data['genre'] = genre_list\n",
    "data['director'] = director_list\n",
    "data['metascore'] = metascore_list\n",
    "data['production'] = production_list\n",
    "data['rating'] = rating_list\n",
    "data['IMDB_rating'] = IMDB_rating_list \n",
    "data['rotten_tomatoes_rating'] = rotten_tomatoes_rating_list\n",
    "data['runtime'] = runtime_list\n",
    "data['type'] = type_list\n",
    "data['IMDB_votes'] = imdb_votes_list"
   ]
  },
  {
   "cell_type": "code",
   "execution_count": 16,
   "metadata": {},
   "outputs": [
    {
     "data": {
      "text/plain": [
       "USA                                        53\n",
       "UK, USA                                     8\n",
       "China, USA                                  4\n",
       "Canada, USA                                 3\n",
       "USA, Australia                              2\n",
       "Hong Kong, USA                              2\n",
       "USA, Mexico                                 2\n",
       "USA, Canada                                 2\n",
       "Australia                                   1\n",
       "USA, New Zealand                            1\n",
       "UK, USA, India, Canada, France, Belgium     1\n",
       "USA, UK, France                             1\n",
       "China, USA, Colombia                        1\n",
       "USA, South Korea                            1\n",
       "UK, China, Japan, USA                       1\n",
       "UK                                          1\n",
       "USA, UK                                     1\n",
       "USA, China                                  1\n",
       "Germany, Sweden, USA                        1\n",
       "Ireland, UK, Hong Kong, Hungary, USA        1\n",
       "UK, USA, Japan                              1\n",
       "Australia, USA, UK, India, Singapore        1\n",
       "Australia, USA                              1\n",
       "France, USA                                 1\n",
       "UK, USA, France, Malta                      1\n",
       "USA, China, France, Norway, UK              1\n",
       "Germany, USA, Canada                        1\n",
       "South Africa, USA                           1\n",
       "USA, Japan                                  1\n",
       "UK, France, USA, China                      1\n",
       "USA, India                                  1\n",
       "Canada                                      1\n",
       "Germany, USA                                1\n",
       "USA, Canada, India                          1\n",
       "France, Japan, USA                          1\n",
       "Name: country, dtype: int64"
      ]
     },
     "execution_count": 16,
     "metadata": {},
     "output_type": "execute_result"
    }
   ],
   "source": [
    "#drop any movies that ddo not include USA for country: 1) Australia 2) UK, 3) Canada\n",
    "data['country'].value_counts()"
   ]
  },
  {
   "cell_type": "code",
   "execution_count": 26,
   "metadata": {},
   "outputs": [],
   "source": [
    "data = data[data.country != 'Australia']\n",
    "data = data[data.country != 'UK']\n",
    "data = data[data.country != 'Canada']"
   ]
  },
  {
   "cell_type": "code",
   "execution_count": 28,
   "metadata": {},
   "outputs": [
    {
     "data": {
      "text/plain": [
       "100"
      ]
     },
     "execution_count": 28,
     "metadata": {},
     "output_type": "execute_result"
    }
   ],
   "source": [
    "data.to_csv(index=False)"
   ]
  },
  {
   "cell_type": "code",
   "execution_count": null,
   "metadata": {},
   "outputs": [],
   "source": []
  }
 ],
 "metadata": {
  "kernelspec": {
   "display_name": "Python 3",
   "language": "python",
   "name": "python3"
  },
  "language_info": {
   "codemirror_mode": {
    "name": "ipython",
    "version": 3
   },
   "file_extension": ".py",
   "mimetype": "text/x-python",
   "name": "python",
   "nbconvert_exporter": "python",
   "pygments_lexer": "ipython3",
   "version": "3.7.4"
  }
 },
 "nbformat": 4,
 "nbformat_minor": 2
}
