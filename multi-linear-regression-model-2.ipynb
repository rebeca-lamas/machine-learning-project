{
 "cells": [
  {
   "cell_type": "code",
   "execution_count": 1,
   "metadata": {},
   "outputs": [],
   "source": [
    "import matplotlib.pyplot as plt\n",
    "import pandas as pd"
   ]
  },
  {
   "cell_type": "code",
   "execution_count": 2,
   "metadata": {},
   "outputs": [],
   "source": [
    "data_2013 = pd.read_csv('Resources/data/train_data_2013.csv')\n",
    "data_2014 = pd.read_csv('Resources/data/train_data_2014.csv')\n",
    "data_2015 = pd.read_csv('Resources/data/train_data_2015.csv')\n",
    "data_2016 = pd.read_csv('Resources/data/train_data_2016.csv')\n",
    "data_2017 = pd.read_csv('Resources/data/test_data_2017.csv')"
   ]
  },
  {
   "cell_type": "code",
   "execution_count": 3,
   "metadata": {},
   "outputs": [
    {
     "name": "stderr",
     "output_type": "stream",
     "text": [
      "C:\\Users\\rebec\\Anaconda3\\lib\\site-packages\\ipykernel_launcher.py:1: FutureWarning: Sorting because non-concatenation axis is not aligned. A future version\n",
      "of pandas will change to not sort by default.\n",
      "\n",
      "To accept the future behavior, pass 'sort=False'.\n",
      "\n",
      "To retain the current behavior and silence the warning, pass 'sort=True'.\n",
      "\n",
      "  \"\"\"Entry point for launching an IPython kernel.\n"
     ]
    }
   ],
   "source": [
    "data1 = pd.concat([data_2013, data_2014, data_2015, data_2016, data_2017], ignore_index=True)"
   ]
  },
  {
   "cell_type": "code",
   "execution_count": 4,
   "metadata": {},
   "outputs": [
    {
     "data": {
      "text/plain": [
       "2013    260\n",
       "2016    241\n",
       "2014    213\n",
       "2017    195\n",
       "2015    171\n",
       "Name: year, dtype: int64"
      ]
     },
     "execution_count": 4,
     "metadata": {},
     "output_type": "execute_result"
    }
   ],
   "source": [
    "data1.year.value_counts()"
   ]
  },
  {
   "cell_type": "code",
   "execution_count": 5,
   "metadata": {},
   "outputs": [
    {
     "data": {
      "text/html": [
       "<div>\n",
       "<style scoped>\n",
       "    .dataframe tbody tr th:only-of-type {\n",
       "        vertical-align: middle;\n",
       "    }\n",
       "\n",
       "    .dataframe tbody tr th {\n",
       "        vertical-align: top;\n",
       "    }\n",
       "\n",
       "    .dataframe thead th {\n",
       "        text-align: right;\n",
       "    }\n",
       "</style>\n",
       "<table border=\"1\" class=\"dataframe\">\n",
       "  <thead>\n",
       "    <tr style=\"text-align: right;\">\n",
       "      <th></th>\n",
       "      <th>box_office</th>\n",
       "      <th>country</th>\n",
       "      <th>genre</th>\n",
       "      <th>runtime</th>\n",
       "      <th>title</th>\n",
       "      <th>year</th>\n",
       "      <th>production_21 Laps Entertainment</th>\n",
       "      <th>production_A Day in the Life Films</th>\n",
       "      <th>production_A24</th>\n",
       "      <th>production_A24 Films</th>\n",
       "      <th>...</th>\n",
       "      <th>production_Yale Productions</th>\n",
       "      <th>production_Zeitgeist Films</th>\n",
       "      <th>production_eOne Entertainment</th>\n",
       "      <th>rating_NOT RATED</th>\n",
       "      <th>rating_PG</th>\n",
       "      <th>rating_PG-13</th>\n",
       "      <th>rating_R</th>\n",
       "      <th>rating_TV-14</th>\n",
       "      <th>rating_TV-MA</th>\n",
       "      <th>rating_Unrated</th>\n",
       "    </tr>\n",
       "  </thead>\n",
       "  <tbody>\n",
       "    <tr>\n",
       "      <th>0</th>\n",
       "      <td>50628650</td>\n",
       "      <td>2</td>\n",
       "      <td>3</td>\n",
       "      <td>134</td>\n",
       "      <td>12 Years a Slave</td>\n",
       "      <td>2013</td>\n",
       "      <td>0</td>\n",
       "      <td>0</td>\n",
       "      <td>0</td>\n",
       "      <td>0</td>\n",
       "      <td>...</td>\n",
       "      <td>0</td>\n",
       "      <td>0</td>\n",
       "      <td>0</td>\n",
       "      <td>0</td>\n",
       "      <td>0</td>\n",
       "      <td>0</td>\n",
       "      <td>1</td>\n",
       "      <td>0</td>\n",
       "      <td>0</td>\n",
       "      <td>0</td>\n",
       "    </tr>\n",
       "    <tr>\n",
       "      <th>1</th>\n",
       "      <td>73500000</td>\n",
       "      <td>1</td>\n",
       "      <td>3</td>\n",
       "      <td>109</td>\n",
       "      <td>2 Guns</td>\n",
       "      <td>2013</td>\n",
       "      <td>0</td>\n",
       "      <td>0</td>\n",
       "      <td>0</td>\n",
       "      <td>0</td>\n",
       "      <td>...</td>\n",
       "      <td>0</td>\n",
       "      <td>0</td>\n",
       "      <td>0</td>\n",
       "      <td>0</td>\n",
       "      <td>0</td>\n",
       "      <td>0</td>\n",
       "      <td>1</td>\n",
       "      <td>0</td>\n",
       "      <td>0</td>\n",
       "      <td>0</td>\n",
       "    </tr>\n",
       "    <tr>\n",
       "      <th>2</th>\n",
       "      <td>25675765</td>\n",
       "      <td>1</td>\n",
       "      <td>1</td>\n",
       "      <td>93</td>\n",
       "      <td>21 &amp; Over</td>\n",
       "      <td>2013</td>\n",
       "      <td>0</td>\n",
       "      <td>0</td>\n",
       "      <td>0</td>\n",
       "      <td>0</td>\n",
       "      <td>...</td>\n",
       "      <td>0</td>\n",
       "      <td>0</td>\n",
       "      <td>0</td>\n",
       "      <td>0</td>\n",
       "      <td>0</td>\n",
       "      <td>0</td>\n",
       "      <td>1</td>\n",
       "      <td>0</td>\n",
       "      <td>0</td>\n",
       "      <td>0</td>\n",
       "    </tr>\n",
       "    <tr>\n",
       "      <th>3</th>\n",
       "      <td>95001343</td>\n",
       "      <td>1</td>\n",
       "      <td>3</td>\n",
       "      <td>128</td>\n",
       "      <td>42</td>\n",
       "      <td>2013</td>\n",
       "      <td>0</td>\n",
       "      <td>0</td>\n",
       "      <td>0</td>\n",
       "      <td>0</td>\n",
       "      <td>...</td>\n",
       "      <td>0</td>\n",
       "      <td>0</td>\n",
       "      <td>0</td>\n",
       "      <td>0</td>\n",
       "      <td>0</td>\n",
       "      <td>1</td>\n",
       "      <td>0</td>\n",
       "      <td>0</td>\n",
       "      <td>0</td>\n",
       "      <td>0</td>\n",
       "    </tr>\n",
       "    <tr>\n",
       "      <th>4</th>\n",
       "      <td>20518224</td>\n",
       "      <td>4</td>\n",
       "      <td>3</td>\n",
       "      <td>128</td>\n",
       "      <td>47 Ronin</td>\n",
       "      <td>2013</td>\n",
       "      <td>0</td>\n",
       "      <td>0</td>\n",
       "      <td>0</td>\n",
       "      <td>0</td>\n",
       "      <td>...</td>\n",
       "      <td>0</td>\n",
       "      <td>0</td>\n",
       "      <td>0</td>\n",
       "      <td>0</td>\n",
       "      <td>0</td>\n",
       "      <td>1</td>\n",
       "      <td>0</td>\n",
       "      <td>0</td>\n",
       "      <td>0</td>\n",
       "      <td>0</td>\n",
       "    </tr>\n",
       "  </tbody>\n",
       "</table>\n",
       "<p>5 rows × 332 columns</p>\n",
       "</div>"
      ],
      "text/plain": [
       "   box_office  country  genre  runtime             title  year  \\\n",
       "0    50628650        2      3      134  12 Years a Slave  2013   \n",
       "1    73500000        1      3      109            2 Guns  2013   \n",
       "2    25675765        1      1       93         21 & Over  2013   \n",
       "3    95001343        1      3      128                42  2013   \n",
       "4    20518224        4      3      128          47 Ronin  2013   \n",
       "\n",
       "   production_21 Laps Entertainment  production_A Day in the Life Films  \\\n",
       "0                                 0                                   0   \n",
       "1                                 0                                   0   \n",
       "2                                 0                                   0   \n",
       "3                                 0                                   0   \n",
       "4                                 0                                   0   \n",
       "\n",
       "   production_A24  production_A24 Films  ...  production_Yale Productions  \\\n",
       "0               0                     0  ...                            0   \n",
       "1               0                     0  ...                            0   \n",
       "2               0                     0  ...                            0   \n",
       "3               0                     0  ...                            0   \n",
       "4               0                     0  ...                            0   \n",
       "\n",
       "   production_Zeitgeist Films  production_eOne Entertainment  \\\n",
       "0                           0                              0   \n",
       "1                           0                              0   \n",
       "2                           0                              0   \n",
       "3                           0                              0   \n",
       "4                           0                              0   \n",
       "\n",
       "   rating_NOT RATED  rating_PG  rating_PG-13  rating_R  rating_TV-14  \\\n",
       "0                 0          0             0         1             0   \n",
       "1                 0          0             0         1             0   \n",
       "2                 0          0             0         1             0   \n",
       "3                 0          0             1         0             0   \n",
       "4                 0          0             1         0             0   \n",
       "\n",
       "   rating_TV-MA  rating_Unrated  \n",
       "0             0               0  \n",
       "1             0               0  \n",
       "2             0               0  \n",
       "3             0               0  \n",
       "4             0               0  \n",
       "\n",
       "[5 rows x 332 columns]"
      ]
     },
     "execution_count": 5,
     "metadata": {},
     "output_type": "execute_result"
    }
   ],
   "source": [
    "data = pd.get_dummies(data1, columns=['production','rating'], drop_first = True)\n",
    "data.head()"
   ]
  },
  {
   "cell_type": "code",
   "execution_count": 6,
   "metadata": {},
   "outputs": [],
   "source": [
    "train = data.loc[data.year != 2017]\n",
    "test = data.loc[data.year == 2017]"
   ]
  },
  {
   "cell_type": "code",
   "execution_count": 7,
   "metadata": {},
   "outputs": [],
   "source": [
    "X_train = train[train.columns[~train.columns.isin(['box_office','title', 'year'])]]\n",
    "y_train = train['box_office'].values.reshape(-1,1)\n",
    "\n",
    "X_test = test[test.columns[~test.columns.isin(['box_office','title', 'year'])]]\n",
    "y_test = test['box_office'].values.reshape(-1,1)"
   ]
  },
  {
   "cell_type": "code",
   "execution_count": 8,
   "metadata": {},
   "outputs": [
    {
     "name": "stdout",
     "output_type": "stream",
     "text": [
      "(195, 329) (195, 1)\n"
     ]
    }
   ],
   "source": [
    "print(X_test.shape, y_test.shape)"
   ]
  },
  {
   "cell_type": "code",
   "execution_count": 9,
   "metadata": {},
   "outputs": [],
   "source": [
    "from sklearn.linear_model import LinearRegression\n",
    "model = LinearRegression()"
   ]
  },
  {
   "cell_type": "code",
   "execution_count": 10,
   "metadata": {},
   "outputs": [
    {
     "data": {
      "text/plain": [
       "LinearRegression(copy_X=True, fit_intercept=True, n_jobs=None, normalize=False)"
      ]
     },
     "execution_count": 10,
     "metadata": {},
     "output_type": "execute_result"
    }
   ],
   "source": [
    "model.fit(X_train, y_train)"
   ]
  },
  {
   "cell_type": "code",
   "execution_count": 11,
   "metadata": {},
   "outputs": [
    {
     "name": "stdout",
     "output_type": "stream",
     "text": [
      "Training Data Score: 0.46587887131765676\n",
      "Testing Data Score: -7.2600101321732235e+19\n"
     ]
    }
   ],
   "source": [
    "print(f\"Training Data Score: {model.score(X_train, y_train)}\")\n",
    "print(f\"Testing Data Score: {model.score(X_test, y_test)}\")"
   ]
  },
  {
   "cell_type": "code",
   "execution_count": null,
   "metadata": {},
   "outputs": [],
   "source": [
    "### BEGIN SOLUTION\n",
    "fig3, ax3 = plt.subplots()\n",
    "ax3.scatter(model.predict(X_train), model.predict(X_train) - y_train, c=\"blue\", label=\"Training Data\")\n",
    "ax3.scatter(model.predict(X_test), model.predict(X_test) - y_test, c=\"orange\", label=\"Testing Data\")\n",
    "ax3.legend()\n",
    "ax3.set_title(\"Residual Plot\")\n",
    "### END SOLUTION  Out [7]:  Text(0.5,1,'Residual Plot')"
   ]
  },
  {
   "cell_type": "code",
   "execution_count": null,
   "metadata": {},
   "outputs": [],
   "source": [
    "fig3.savefig('Resources/images/residual_plot.png', figsize=(1044/166, 696/166), dpi=166)"
   ]
  },
  {
   "cell_type": "code",
   "execution_count": null,
   "metadata": {},
   "outputs": [],
   "source": [
    "fig2, ax2 = plt.subplots()\n",
    "ax2.scatter(y_train, X_train['runtime'], c=\"blue\", label=\"Train Data\")"
   ]
  },
  {
   "cell_type": "code",
   "execution_count": null,
   "metadata": {},
   "outputs": [],
   "source": [
    "fig2.savefig('Resources/images/train_scatter.png', figsize=(1044/166, 696/166), dpi=166)"
   ]
  },
  {
   "cell_type": "code",
   "execution_count": null,
   "metadata": {},
   "outputs": [],
   "source": [
    "from scipy import stats\n",
    "import numpy as np"
   ]
  },
  {
   "cell_type": "code",
   "execution_count": null,
   "metadata": {},
   "outputs": [],
   "source": [
    "box_office = data['box_office']\n",
    "runtime = data['runtime']"
   ]
  },
  {
   "cell_type": "code",
   "execution_count": null,
   "metadata": {},
   "outputs": [],
   "source": [
    "runtime = runtime.astype(np.float64) \n",
    "box_office = box_office.astype(np.float64)"
   ]
  },
  {
   "cell_type": "code",
   "execution_count": null,
   "metadata": {},
   "outputs": [],
   "source": [
    "bo_slope, bo_int, bo_r, bo_p, bo_std_err = stats.linregress(\n",
    "    runtime, box_office)\n",
    "bo_fit = bo_slope * runtime + bo_int\n",
    "\n",
    "stats.linregress(runtime, box_office)"
   ]
  },
  {
   "cell_type": "code",
   "execution_count": null,
   "metadata": {},
   "outputs": [],
   "source": [
    "fig, ax = plt.subplots()\n",
    "ax.set_xlim(min(data['runtime']), max(data['runtime']))\n",
    "ax.plot(data['runtime'], data['box_office'], linewidth=0, marker=\"o\")\n",
    "ax.set_title(\"Runtime vs Box Office\")\n",
    "ax.set_ylabel(\"Box Office ($ Millions)\")\n",
    "ax.set_xlabel(\"Runtime (mins)\")"
   ]
  },
  {
   "cell_type": "code",
   "execution_count": null,
   "metadata": {},
   "outputs": [],
   "source": [
    "fig.savefig('Resources/images/runtime_bo.png', figsize=(1044/166, 696/166), dpi=166)"
   ]
  },
  {
   "cell_type": "code",
   "execution_count": null,
   "metadata": {},
   "outputs": [],
   "source": [
    "box_office = data['box_office']\n",
    "genre = data['genre']"
   ]
  },
  {
   "cell_type": "code",
   "execution_count": null,
   "metadata": {},
   "outputs": [],
   "source": [
    "genre = genre.astype(np.float64) \n",
    "box_office = box_office.astype(np.float64)"
   ]
  },
  {
   "cell_type": "code",
   "execution_count": null,
   "metadata": {},
   "outputs": [],
   "source": [
    "gn_slope, gn_int, gn_r, gn_p, gn_std_err = stats.linregress(\n",
    "    genre, box_office)\n",
    "gn_fit = gn_slope * runtime + gn_int\n",
    "\n",
    "stats.linregress(genre, box_office)"
   ]
  },
  {
   "cell_type": "code",
   "execution_count": null,
   "metadata": {},
   "outputs": [],
   "source": [
    "fig1, ax1 = plt.subplots()\n",
    "ax1.set_xlim(min(data['genre']), max(data['genre']))\n",
    "ax1.plot(data['genre'], data['box_office'], linewidth=0, marker=\"o\")\n",
    "# ax1.plot(data['genre'], gn_fit, \"r--\", linewidth=1)\n",
    "ax1.set_title(\"Genre vs Box Office\")\n",
    "ax1.set_ylabel(\"Box Office ($ Millions)\")\n",
    "ax1.set_xlabel(\"Genre (# of categories)\")"
   ]
  },
  {
   "cell_type": "code",
   "execution_count": null,
   "metadata": {},
   "outputs": [],
   "source": [
    "fig1.savefig('Resources/images/genre_bo.png', figsize=(1044/166, 696/166), dpi=166)"
   ]
  },
  {
   "cell_type": "code",
   "execution_count": null,
   "metadata": {
    "scrolled": true
   },
   "outputs": [],
   "source": [
    "country = data.boxplot(by= 'country', column='box_office', grid=False)\n",
    "fig = country.get_figure()\n",
    "fig.suptitle(\"\")"
   ]
  },
  {
   "cell_type": "code",
   "execution_count": null,
   "metadata": {},
   "outputs": [],
   "source": [
    "country.figure.savefig('Resources/images/country_bo.png', figsize=(1044/166, 696/166), dpi=166)"
   ]
  },
  {
   "cell_type": "code",
   "execution_count": null,
   "metadata": {},
   "outputs": [],
   "source": [
    "rating = data1.boxplot(by='rating', column='box_office',grid=False)\n",
    "fig = rating.get_figure()\n",
    "fig.suptitle(\"\")"
   ]
  },
  {
   "cell_type": "code",
   "execution_count": null,
   "metadata": {},
   "outputs": [],
   "source": [
    "rating.figure.savefig('Resources/images/rating_bo.png', figsize=(1044/166, 696/166), dpi=166)"
   ]
  },
  {
   "cell_type": "code",
   "execution_count": null,
   "metadata": {},
   "outputs": [],
   "source": [
    "data1.production.value_counts()"
   ]
  },
  {
   "cell_type": "code",
   "execution_count": null,
   "metadata": {},
   "outputs": [],
   "source": [
    "filter_list = ['Warner Bros. Pictures','20th Century Fox','Paramount Pictures','Universal Pictures','Walt Disney Pictures']\n",
    "data1 = data1[data1.production.isin(filter_list)]\n",
    "data1"
   ]
  },
  {
   "cell_type": "code",
   "execution_count": null,
   "metadata": {},
   "outputs": [],
   "source": [
    "boxplot2 = data1.boxplot(by='production', column='box_office',grid=False, rot =15)\n",
    "fig = boxplot2.get_figure()\n",
    "fig.suptitle(\"\")"
   ]
  },
  {
   "cell_type": "code",
   "execution_count": null,
   "metadata": {},
   "outputs": [],
   "source": [
    "boxplot2.figure.savefig('Resources/images/production_bo.png', figsize=(1044/166, 696/166), dpi=166)"
   ]
  },
  {
   "cell_type": "code",
   "execution_count": null,
   "metadata": {},
   "outputs": [],
   "source": []
  }
 ],
 "metadata": {
  "kernelspec": {
   "display_name": "Python 3",
   "language": "python",
   "name": "python3"
  },
  "language_info": {
   "codemirror_mode": {
    "name": "ipython",
    "version": 3
   },
   "file_extension": ".py",
   "mimetype": "text/x-python",
   "name": "python",
   "nbconvert_exporter": "python",
   "pygments_lexer": "ipython3",
   "version": "3.7.4"
  }
 },
 "nbformat": 4,
 "nbformat_minor": 2
}
