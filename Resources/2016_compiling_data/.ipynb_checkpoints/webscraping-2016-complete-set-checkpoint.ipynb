{
 "cells": [
  {
   "cell_type": "code",
   "execution_count": 1,
   "metadata": {},
   "outputs": [],
   "source": [
    "from bs4 import BeautifulSoup as bs\n",
    "import bs4\n",
    "import pandas as pd\n",
    "import requests\n",
    "import json\n",
    "from pprint import pprint\n",
    "import ast\n",
    "import pandas as pd"
   ]
  },
  {
   "cell_type": "code",
   "execution_count": 2,
   "metadata": {},
   "outputs": [],
   "source": [
    "url_2016 = \"https://www.imdb.com/search/title/?title_type=feature&year=2016-01-01,2016-12-31&countries=us&sort=alpha,asc&ref_=adv_prv\"\n",
    "url_list = [url_2016]"
   ]
  },
  {
   "cell_type": "code",
   "execution_count": 3,
   "metadata": {},
   "outputs": [],
   "source": [
    "response = requests.get(url_2016)\n",
    "soup = bs(response.text, \"html.parser\")"
   ]
  },
  {
   "cell_type": "code",
   "execution_count": 4,
   "metadata": {},
   "outputs": [],
   "source": [
    "s = soup.findAll('a', href=True)\n",
    "test = []    "
   ]
  },
  {
   "cell_type": "code",
   "execution_count": 5,
   "metadata": {},
   "outputs": [],
   "source": [
    "import re\n",
    "\n",
    "soup.find_all(\"a\", href=re.compile(\"/title/tt\"))\n",
    "title = soup.find_all(\"a\", href=lambda href: href and \"/title/tt\" in href)"
   ]
  },
  {
   "cell_type": "code",
   "execution_count": 6,
   "metadata": {},
   "outputs": [],
   "source": [
    "# title[0]['href']\n",
    "for i in range(len(title)):\n",
    "    test.append(title[i]['href'])"
   ]
  },
  {
   "cell_type": "code",
   "execution_count": 7,
   "metadata": {},
   "outputs": [],
   "source": [
    "df = pd.DataFrame({'href': test})"
   ]
  },
  {
   "cell_type": "code",
   "execution_count": 8,
   "metadata": {},
   "outputs": [],
   "source": [
    "df = pd.DataFrame(df.href.str.split('/').tolist(), columns = ['a', 'b', 'title', 'c'])"
   ]
  },
  {
   "cell_type": "code",
   "execution_count": 9,
   "metadata": {},
   "outputs": [],
   "source": [
    "# df=df['2']\n",
    "df=df['title']"
   ]
  },
  {
   "cell_type": "code",
   "execution_count": 10,
   "metadata": {},
   "outputs": [],
   "source": [
    "df = pd.DataFrame(df)"
   ]
  },
  {
   "cell_type": "code",
   "execution_count": 11,
   "metadata": {},
   "outputs": [],
   "source": [
    "df = df.drop_duplicates()"
   ]
  },
  {
   "cell_type": "code",
   "execution_count": 12,
   "metadata": {},
   "outputs": [
    {
     "data": {
      "text/plain": [
       "title    50\n",
       "dtype: int64"
      ]
     },
     "execution_count": 12,
     "metadata": {},
     "output_type": "execute_result"
    }
   ],
   "source": [
    "df.count()"
   ]
  },
  {
   "cell_type": "code",
   "execution_count": 13,
   "metadata": {},
   "outputs": [],
   "source": [
    "spans = soup.find_all('span')\n",
    "title_count = []\n",
    "for i in range(len(spans)):\n",
    "    if '1-50' in spans[i].text:\n",
    "        title_count.append(spans[i].text)"
   ]
  },
  {
   "cell_type": "code",
   "execution_count": 14,
   "metadata": {},
   "outputs": [
    {
     "name": "stdout",
     "output_type": "stream",
     "text": [
      "['1-50 of 3,719 titles.', '1-50 of 3,719 titles.']\n"
     ]
    }
   ],
   "source": [
    "print(title_count)"
   ]
  },
  {
   "cell_type": "code",
   "execution_count": 15,
   "metadata": {},
   "outputs": [],
   "source": [
    "title_count = title_count[0]"
   ]
  },
  {
   "cell_type": "code",
   "execution_count": 16,
   "metadata": {},
   "outputs": [
    {
     "data": {
      "text/plain": [
       "'1-50 of 3,719 titles.'"
      ]
     },
     "execution_count": 16,
     "metadata": {},
     "output_type": "execute_result"
    }
   ],
   "source": [
    "title_count"
   ]
  },
  {
   "cell_type": "code",
   "execution_count": 17,
   "metadata": {},
   "outputs": [
    {
     "data": {
      "text/plain": [
       "'3,719 titles.'"
      ]
     },
     "execution_count": 17,
     "metadata": {},
     "output_type": "execute_result"
    }
   ],
   "source": [
    "title_count = title_count.replace('1-50 of ', '')\n",
    "title_count"
   ]
  },
  {
   "cell_type": "code",
   "execution_count": 18,
   "metadata": {},
   "outputs": [
    {
     "data": {
      "text/plain": [
       "'3,719'"
      ]
     },
     "execution_count": 18,
     "metadata": {},
     "output_type": "execute_result"
    }
   ],
   "source": [
    "title_count = title_count.replace(' titles.', '')\n",
    "title_count"
   ]
  },
  {
   "cell_type": "code",
   "execution_count": 19,
   "metadata": {},
   "outputs": [
    {
     "data": {
      "text/plain": [
       "'3719'"
      ]
     },
     "execution_count": 19,
     "metadata": {},
     "output_type": "execute_result"
    }
   ],
   "source": [
    "title_count = title_count.replace(',','')\n",
    "title_count"
   ]
  },
  {
   "cell_type": "code",
   "execution_count": 20,
   "metadata": {},
   "outputs": [
    {
     "data": {
      "text/plain": [
       "3719"
      ]
     },
     "execution_count": 20,
     "metadata": {},
     "output_type": "execute_result"
    }
   ],
   "source": [
    "title_count = int(title_count)\n",
    "title_count"
   ]
  },
  {
   "cell_type": "code",
   "execution_count": 21,
   "metadata": {},
   "outputs": [],
   "source": [
    "page_count = title_count/50"
   ]
  },
  {
   "cell_type": "code",
   "execution_count": 22,
   "metadata": {},
   "outputs": [
    {
     "data": {
      "text/plain": [
       "74.38"
      ]
     },
     "execution_count": 22,
     "metadata": {},
     "output_type": "execute_result"
    }
   ],
   "source": [
    "page_count"
   ]
  },
  {
   "cell_type": "code",
   "execution_count": 23,
   "metadata": {},
   "outputs": [],
   "source": [
    "import math\n",
    "page_count = math.ceil(page_count)"
   ]
  },
  {
   "cell_type": "code",
   "execution_count": 24,
   "metadata": {},
   "outputs": [
    {
     "data": {
      "text/plain": [
       "75"
      ]
     },
     "execution_count": 24,
     "metadata": {},
     "output_type": "execute_result"
    }
   ],
   "source": [
    "page_count"
   ]
  },
  {
   "cell_type": "code",
   "execution_count": 25,
   "metadata": {},
   "outputs": [],
   "source": [
    "# 51, 101, 151\n",
    "page_url = []\n",
    "for i in range(page_count):\n",
    "    n = i +1\n",
    "    num = 50*n + 1\n",
    "    page_url.append(num)"
   ]
  },
  {
   "cell_type": "code",
   "execution_count": 26,
   "metadata": {},
   "outputs": [
    {
     "name": "stdout",
     "output_type": "stream",
     "text": [
      "[51, 101, 151, 201, 251, 301, 351, 401, 451, 501, 551, 601, 651, 701, 751, 801, 851, 901, 951, 1001, 1051, 1101, 1151, 1201, 1251, 1301, 1351, 1401, 1451, 1501, 1551, 1601, 1651, 1701, 1751, 1801, 1851, 1901, 1951, 2001, 2051, 2101, 2151, 2201, 2251, 2301, 2351, 2401, 2451, 2501, 2551, 2601, 2651, 2701, 2751, 2801, 2851, 2901, 2951, 3001, 3051, 3101, 3151, 3201, 3251, 3301, 3351, 3401, 3451, 3501, 3551, 3601, 3651, 3701, 3751]\n"
     ]
    }
   ],
   "source": [
    "print(page_url)"
   ]
  },
  {
   "cell_type": "code",
   "execution_count": 27,
   "metadata": {},
   "outputs": [],
   "source": [
    "# for i in range(len(page_url)):\n",
    "#     page_url[i] = page_url[i].astype(str)\n",
    "page_url = list(map(str, page_url)) "
   ]
  },
  {
   "cell_type": "code",
   "execution_count": 28,
   "metadata": {},
   "outputs": [
    {
     "name": "stdout",
     "output_type": "stream",
     "text": [
      "['&start=51', '&start=101', '&start=151', '&start=201', '&start=251', '&start=301', '&start=351', '&start=401', '&start=451', '&start=501', '&start=551', '&start=601', '&start=651', '&start=701', '&start=751', '&start=801', '&start=851', '&start=901', '&start=951', '&start=1001', '&start=1051', '&start=1101', '&start=1151', '&start=1201', '&start=1251', '&start=1301', '&start=1351', '&start=1401', '&start=1451', '&start=1501', '&start=1551', '&start=1601', '&start=1651', '&start=1701', '&start=1751', '&start=1801', '&start=1851', '&start=1901', '&start=1951', '&start=2001', '&start=2051', '&start=2101', '&start=2151', '&start=2201', '&start=2251', '&start=2301', '&start=2351', '&start=2401', '&start=2451', '&start=2501', '&start=2551', '&start=2601', '&start=2651', '&start=2701', '&start=2751', '&start=2801', '&start=2851', '&start=2901', '&start=2951', '&start=3001', '&start=3051', '&start=3101', '&start=3151', '&start=3201', '&start=3251', '&start=3301', '&start=3351', '&start=3401', '&start=3451', '&start=3501', '&start=3551', '&start=3601', '&start=3651', '&start=3701', '&start=3751']\n"
     ]
    }
   ],
   "source": [
    "page_url = [\"&start=\" + s for s in page_url]\n",
    "print(page_url)"
   ]
  },
  {
   "cell_type": "code",
   "execution_count": 29,
   "metadata": {},
   "outputs": [],
   "source": [
    "page_url[:0] = [''] "
   ]
  },
  {
   "cell_type": "code",
   "execution_count": 30,
   "metadata": {},
   "outputs": [
    {
     "name": "stdout",
     "output_type": "stream",
     "text": [
      "['', '&start=51', '&start=101', '&start=151', '&start=201', '&start=251', '&start=301', '&start=351', '&start=401', '&start=451', '&start=501', '&start=551', '&start=601', '&start=651', '&start=701', '&start=751', '&start=801', '&start=851', '&start=901', '&start=951', '&start=1001', '&start=1051', '&start=1101', '&start=1151', '&start=1201', '&start=1251', '&start=1301', '&start=1351', '&start=1401', '&start=1451', '&start=1501', '&start=1551', '&start=1601', '&start=1651', '&start=1701', '&start=1751', '&start=1801', '&start=1851', '&start=1901', '&start=1951', '&start=2001', '&start=2051', '&start=2101', '&start=2151', '&start=2201', '&start=2251', '&start=2301', '&start=2351', '&start=2401', '&start=2451', '&start=2501', '&start=2551', '&start=2601', '&start=2651', '&start=2701', '&start=2751', '&start=2801', '&start=2851', '&start=2901', '&start=2951', '&start=3001', '&start=3051', '&start=3101', '&start=3151', '&start=3201', '&start=3251', '&start=3301', '&start=3351', '&start=3401', '&start=3451', '&start=3501', '&start=3551', '&start=3601', '&start=3651', '&start=3701', '&start=3751']\n"
     ]
    }
   ],
   "source": [
    "print(page_url)"
   ]
  },
  {
   "cell_type": "code",
   "execution_count": 31,
   "metadata": {},
   "outputs": [],
   "source": [
    "import re\n",
    "test = []"
   ]
  },
  {
   "cell_type": "code",
   "execution_count": null,
   "metadata": {},
   "outputs": [
    {
     "name": "stdout",
     "output_type": "stream",
     "text": [
      "0\n",
      "1\n",
      "2\n",
      "3\n",
      "4\n",
      "5\n",
      "6\n",
      "7\n",
      "8\n",
      "9\n",
      "10\n",
      "11\n",
      "12\n",
      "13\n"
     ]
    }
   ],
   "source": [
    "for i in range(page_count):\n",
    "    url = \"https://www.imdb.com/search/title/?title_type=feature&year=2016-01-01,2016-12-31&countries=us&sort=alpha,asc\"+page_url[i]+\"&ref_=adv_prv\"\n",
    "    response = requests.get(url)\n",
    "    soup = bs(response.text, \"html.parser\")\n",
    "    soup.find_all(\"a\", href=re.compile(\"/title/tt\"))\n",
    "    title = soup.find_all(\"a\", href=lambda href: href and \"/title/tt\" in href)\n",
    "    print(i)\n",
    "    for j in range(len(title)):\n",
    "        test.append(title[j]['href'])"
   ]
  },
  {
   "cell_type": "code",
   "execution_count": null,
   "metadata": {},
   "outputs": [],
   "source": [
    "df = pd.DataFrame({'href': test})\n",
    "df = pd.DataFrame(df.href.str.split('/').tolist(), columns = ['a', 'b', 'title', 'c'])\n",
    "df = df['title']\n",
    "df = pd.DataFrame(df)\n",
    "df = df.drop_duplicates()\n",
    "df.count()"
   ]
  },
  {
   "cell_type": "code",
   "execution_count": null,
   "metadata": {},
   "outputs": [],
   "source": [
    "df = df.reset_index(drop=True)\n",
    "df"
   ]
  },
  {
   "cell_type": "code",
   "execution_count": null,
   "metadata": {},
   "outputs": [],
   "source": [
    "first_1000 = pd.DataFrame()\n",
    "second_1000 = pd.DataFrame()\n",
    "third_1000 = pd.DataFrame()\n",
    "rest = pd.DataFrame()\n",
    "\n",
    "if df.shape[0] > 1000: # len(df) > 1000 would also work\n",
    "    first_1000 = df[:1000]\n",
    "    second_1000 = df[1000:2000]\n",
    "    third_1000 = df[2000:3000]\n",
    "    rest = df[3000:]"
   ]
  },
  {
   "cell_type": "code",
   "execution_count": null,
   "metadata": {},
   "outputs": [],
   "source": [
    "first_1000.count()"
   ]
  },
  {
   "cell_type": "code",
   "execution_count": null,
   "metadata": {},
   "outputs": [],
   "source": [
    "second_1000.count()"
   ]
  },
  {
   "cell_type": "code",
   "execution_count": null,
   "metadata": {},
   "outputs": [],
   "source": [
    "third_1000.count()"
   ]
  },
  {
   "cell_type": "code",
   "execution_count": null,
   "metadata": {},
   "outputs": [],
   "source": [
    "rest.count()"
   ]
  },
  {
   "cell_type": "code",
   "execution_count": null,
   "metadata": {},
   "outputs": [],
   "source": [
    "export_first_1000 = first_1000.to_csv(\"../data/titles_2016_batch1.csv\", index = None, header=True)\n",
    "export_second_1000 = second_1000.to_csv(\"../data/titles_2016_batch2.csv\", index = None, header=True)\n",
    "export_third_1000 = third_1000.to_csv(\"../data/titles_2016_batch3.csv\", index = None, header=True)\n",
    "export_rest = rest.to_csv(\"../data/titles_2016_batch4.csv\", index = None, header=True)"
   ]
  },
  {
   "cell_type": "code",
   "execution_count": null,
   "metadata": {},
   "outputs": [],
   "source": []
  }
 ],
 "metadata": {
  "kernelspec": {
   "display_name": "Python 3",
   "language": "python",
   "name": "python3"
  },
  "language_info": {
   "codemirror_mode": {
    "name": "ipython",
    "version": 3
   },
   "file_extension": ".py",
   "mimetype": "text/x-python",
   "name": "python",
   "nbconvert_exporter": "python",
   "pygments_lexer": "ipython3",
   "version": "3.7.4"
  }
 },
 "nbformat": 4,
 "nbformat_minor": 2
}
