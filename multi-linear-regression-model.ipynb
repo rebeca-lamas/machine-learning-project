{
 "cells": [
  {
   "cell_type": "code",
   "execution_count": 1,
   "metadata": {},
   "outputs": [],
   "source": [
    "import matplotlib.pyplot as plt\n",
    "import pandas as pd"
   ]
  },
  {
   "cell_type": "code",
   "execution_count": 2,
   "metadata": {},
   "outputs": [],
   "source": [
    "data_2016 = pd.read_csv('Resources/data/train_data_2016.csv')\n",
    "data_2017 = pd.read_csv('Resources/data/test_data_2017.csv')"
   ]
  },
  {
   "cell_type": "code",
   "execution_count": 3,
   "metadata": {},
   "outputs": [
    {
     "name": "stderr",
     "output_type": "stream",
     "text": [
      "C:\\Users\\rebec\\Anaconda3\\lib\\site-packages\\ipykernel_launcher.py:1: FutureWarning: Sorting because non-concatenation axis is not aligned. A future version\n",
      "of pandas will change to not sort by default.\n",
      "\n",
      "To accept the future behavior, pass 'sort=False'.\n",
      "\n",
      "To retain the current behavior and silence the warning, pass 'sort=True'.\n",
      "\n",
      "  \"\"\"Entry point for launching an IPython kernel.\n"
     ]
    }
   ],
   "source": [
    "data1 = pd.concat([data_2016, data_2017], ignore_index=True)"
   ]
  },
  {
   "cell_type": "code",
   "execution_count": 4,
   "metadata": {},
   "outputs": [
    {
     "data": {
      "text/plain": [
       "2016    241\n",
       "2017    195\n",
       "Name: year, dtype: int64"
      ]
     },
     "execution_count": 4,
     "metadata": {},
     "output_type": "execute_result"
    }
   ],
   "source": [
    "data1.year.value_counts()"
   ]
  },
  {
   "cell_type": "code",
   "execution_count": 5,
   "metadata": {},
   "outputs": [
    {
     "data": {
      "text/html": [
       "<div>\n",
       "<style scoped>\n",
       "    .dataframe tbody tr th:only-of-type {\n",
       "        vertical-align: middle;\n",
       "    }\n",
       "\n",
       "    .dataframe tbody tr th {\n",
       "        vertical-align: top;\n",
       "    }\n",
       "\n",
       "    .dataframe thead th {\n",
       "        text-align: right;\n",
       "    }\n",
       "</style>\n",
       "<table border=\"1\" class=\"dataframe\">\n",
       "  <thead>\n",
       "    <tr style=\"text-align: right;\">\n",
       "      <th></th>\n",
       "      <th>box_office</th>\n",
       "      <th>country</th>\n",
       "      <th>genre</th>\n",
       "      <th>runtime</th>\n",
       "      <th>title</th>\n",
       "      <th>year</th>\n",
       "      <th>production_21 Laps Entertainment</th>\n",
       "      <th>production_A Day in the Life Films</th>\n",
       "      <th>production_A24</th>\n",
       "      <th>production_A24 Films</th>\n",
       "      <th>...</th>\n",
       "      <th>production_Wet Paint Production</th>\n",
       "      <th>production_Will Packer Productions</th>\n",
       "      <th>production_Working Title</th>\n",
       "      <th>production_XYZ Films</th>\n",
       "      <th>production_Yale Productions</th>\n",
       "      <th>rating_PG</th>\n",
       "      <th>rating_PG-13</th>\n",
       "      <th>rating_R</th>\n",
       "      <th>rating_TV-MA</th>\n",
       "      <th>rating_Unrated</th>\n",
       "    </tr>\n",
       "  </thead>\n",
       "  <tbody>\n",
       "    <tr>\n",
       "      <th>0</th>\n",
       "      <td>248849</td>\n",
       "      <td>1</td>\n",
       "      <td>3</td>\n",
       "      <td>94</td>\n",
       "      <td>Dean</td>\n",
       "      <td>2016</td>\n",
       "      <td>0</td>\n",
       "      <td>0</td>\n",
       "      <td>0</td>\n",
       "      <td>0</td>\n",
       "      <td>...</td>\n",
       "      <td>0</td>\n",
       "      <td>0</td>\n",
       "      <td>0</td>\n",
       "      <td>0</td>\n",
       "      <td>0</td>\n",
       "      <td>0</td>\n",
       "      <td>1</td>\n",
       "      <td>0</td>\n",
       "      <td>0</td>\n",
       "      <td>0</td>\n",
       "    </tr>\n",
       "    <tr>\n",
       "      <th>1</th>\n",
       "      <td>59481553</td>\n",
       "      <td>1</td>\n",
       "      <td>5</td>\n",
       "      <td>103</td>\n",
       "      <td>10 Cloverfield Lane</td>\n",
       "      <td>2016</td>\n",
       "      <td>0</td>\n",
       "      <td>0</td>\n",
       "      <td>0</td>\n",
       "      <td>0</td>\n",
       "      <td>...</td>\n",
       "      <td>0</td>\n",
       "      <td>0</td>\n",
       "      <td>0</td>\n",
       "      <td>0</td>\n",
       "      <td>0</td>\n",
       "      <td>0</td>\n",
       "      <td>1</td>\n",
       "      <td>0</td>\n",
       "      <td>0</td>\n",
       "      <td>0</td>\n",
       "    </tr>\n",
       "    <tr>\n",
       "      <th>2</th>\n",
       "      <td>37978162</td>\n",
       "      <td>3</td>\n",
       "      <td>5</td>\n",
       "      <td>144</td>\n",
       "      <td>13 Hours</td>\n",
       "      <td>2016</td>\n",
       "      <td>0</td>\n",
       "      <td>0</td>\n",
       "      <td>0</td>\n",
       "      <td>0</td>\n",
       "      <td>...</td>\n",
       "      <td>0</td>\n",
       "      <td>0</td>\n",
       "      <td>0</td>\n",
       "      <td>0</td>\n",
       "      <td>0</td>\n",
       "      <td>0</td>\n",
       "      <td>0</td>\n",
       "      <td>1</td>\n",
       "      <td>0</td>\n",
       "      <td>0</td>\n",
       "    </tr>\n",
       "    <tr>\n",
       "      <th>3</th>\n",
       "      <td>5663854</td>\n",
       "      <td>1</td>\n",
       "      <td>2</td>\n",
       "      <td>119</td>\n",
       "      <td>20th Century Women</td>\n",
       "      <td>2016</td>\n",
       "      <td>0</td>\n",
       "      <td>0</td>\n",
       "      <td>0</td>\n",
       "      <td>1</td>\n",
       "      <td>...</td>\n",
       "      <td>0</td>\n",
       "      <td>0</td>\n",
       "      <td>0</td>\n",
       "      <td>0</td>\n",
       "      <td>0</td>\n",
       "      <td>0</td>\n",
       "      <td>0</td>\n",
       "      <td>1</td>\n",
       "      <td>0</td>\n",
       "      <td>0</td>\n",
       "    </tr>\n",
       "    <tr>\n",
       "      <th>4</th>\n",
       "      <td>29245</td>\n",
       "      <td>1</td>\n",
       "      <td>1</td>\n",
       "      <td>0</td>\n",
       "      <td>3 Weeks in Yerevan</td>\n",
       "      <td>2016</td>\n",
       "      <td>0</td>\n",
       "      <td>0</td>\n",
       "      <td>0</td>\n",
       "      <td>0</td>\n",
       "      <td>...</td>\n",
       "      <td>1</td>\n",
       "      <td>0</td>\n",
       "      <td>0</td>\n",
       "      <td>0</td>\n",
       "      <td>0</td>\n",
       "      <td>0</td>\n",
       "      <td>0</td>\n",
       "      <td>0</td>\n",
       "      <td>0</td>\n",
       "      <td>1</td>\n",
       "    </tr>\n",
       "  </tbody>\n",
       "</table>\n",
       "<p>5 rows × 202 columns</p>\n",
       "</div>"
      ],
      "text/plain": [
       "   box_office  country  genre  runtime                title  year  \\\n",
       "0      248849        1      3       94                 Dean  2016   \n",
       "1    59481553        1      5      103  10 Cloverfield Lane  2016   \n",
       "2    37978162        3      5      144             13 Hours  2016   \n",
       "3     5663854        1      2      119   20th Century Women  2016   \n",
       "4       29245        1      1        0   3 Weeks in Yerevan  2016   \n",
       "\n",
       "   production_21 Laps Entertainment  production_A Day in the Life Films  \\\n",
       "0                                 0                                   0   \n",
       "1                                 0                                   0   \n",
       "2                                 0                                   0   \n",
       "3                                 0                                   0   \n",
       "4                                 0                                   0   \n",
       "\n",
       "   production_A24  production_A24 Films  ...  production_Wet Paint Production  \\\n",
       "0               0                     0  ...                                0   \n",
       "1               0                     0  ...                                0   \n",
       "2               0                     0  ...                                0   \n",
       "3               0                     1  ...                                0   \n",
       "4               0                     0  ...                                1   \n",
       "\n",
       "   production_Will Packer Productions  production_Working Title  \\\n",
       "0                                   0                         0   \n",
       "1                                   0                         0   \n",
       "2                                   0                         0   \n",
       "3                                   0                         0   \n",
       "4                                   0                         0   \n",
       "\n",
       "   production_XYZ Films  production_Yale Productions  rating_PG  rating_PG-13  \\\n",
       "0                     0                            0          0             1   \n",
       "1                     0                            0          0             1   \n",
       "2                     0                            0          0             0   \n",
       "3                     0                            0          0             0   \n",
       "4                     0                            0          0             0   \n",
       "\n",
       "   rating_R  rating_TV-MA  rating_Unrated  \n",
       "0         0             0               0  \n",
       "1         0             0               0  \n",
       "2         1             0               0  \n",
       "3         1             0               0  \n",
       "4         0             0               1  \n",
       "\n",
       "[5 rows x 202 columns]"
      ]
     },
     "execution_count": 5,
     "metadata": {},
     "output_type": "execute_result"
    }
   ],
   "source": [
    "data = pd.get_dummies(data1, columns=['production','rating'], drop_first = True)\n",
    "data.head()"
   ]
  },
  {
   "cell_type": "code",
   "execution_count": 6,
   "metadata": {},
   "outputs": [],
   "source": [
    "train = data.loc[data.year == 2016]\n",
    "test = data.loc[data.year == 2017]"
   ]
  },
  {
   "cell_type": "code",
   "execution_count": 7,
   "metadata": {},
   "outputs": [],
   "source": [
    "X_train = train[train.columns[~train.columns.isin(['box_office','title', 'year'])]]\n",
    "y_train = train['box_office'].values.reshape(-1,1)\n",
    "\n",
    "X_test = test[test.columns[~test.columns.isin(['box_office','title', 'year'])]]\n",
    "y_test = test['box_office'].values.reshape(-1,1)"
   ]
  },
  {
   "cell_type": "code",
   "execution_count": 8,
   "metadata": {},
   "outputs": [
    {
     "name": "stdout",
     "output_type": "stream",
     "text": [
      "(195, 199) (195, 1)\n"
     ]
    }
   ],
   "source": [
    "print(X_test.shape, y_test.shape)"
   ]
  },
  {
   "cell_type": "code",
   "execution_count": 9,
   "metadata": {},
   "outputs": [],
   "source": [
    "from sklearn.linear_model import LinearRegression\n",
    "model = LinearRegression()"
   ]
  },
  {
   "cell_type": "code",
   "execution_count": 10,
   "metadata": {},
   "outputs": [
    {
     "data": {
      "text/plain": [
       "LinearRegression(copy_X=True, fit_intercept=True, n_jobs=None, normalize=False)"
      ]
     },
     "execution_count": 10,
     "metadata": {},
     "output_type": "execute_result"
    }
   ],
   "source": [
    "model.fit(X_train, y_train)"
   ]
  },
  {
   "cell_type": "code",
   "execution_count": 11,
   "metadata": {},
   "outputs": [
    {
     "name": "stdout",
     "output_type": "stream",
     "text": [
      "Training Data Score: 0.6194696939899448\n",
      "Testing Data Score: 0.44307599436561024\n"
     ]
    }
   ],
   "source": [
    "print(f\"Training Data Score: {model.score(X_train, y_train)}\")\n",
    "print(f\"Testing Data Score: {model.score(X_test, y_test)}\")"
   ]
  },
  {
   "cell_type": "code",
   "execution_count": 12,
   "metadata": {},
   "outputs": [
    {
     "data": {
      "text/plain": [
       "Text(0.5, 1.0, 'Residual Plot')"
      ]
     },
     "execution_count": 12,
     "metadata": {},
     "output_type": "execute_result"
    },
    {
     "data": {
      "image/png": "[encoded data removed]",
      "text/plain": [
       "<Figure size 432x288 with 1 Axes>"
      ]
     },
     "metadata": {
      "needs_background": "light"
     },
     "output_type": "display_data"
    }
   ],
   "source": [
    "### BEGIN SOLUTION\n",
    "fig3, ax3 = plt.subplots()\n",
    "ax3.scatter(model.predict(X_train), model.predict(X_train) - y_train, c=\"blue\", label=\"Training Data\")\n",
    "ax3.scatter(model.predict(X_test), model.predict(X_test) - y_test, c=\"orange\", label=\"Testing Data\")\n",
    "ax3.legend()\n",
    "ax3.set_title(\"Residual Plot\")\n",
    "### END SOLUTION  Out [7]:  Text(0.5,1,'Residual Plot')"
   ]
  },
  {
   "cell_type": "code",
   "execution_count": 13,
   "metadata": {},
   "outputs": [],
   "source": [
    "fig3.savefig('Resources/images/residual_plot.png', figsize=(1044/166, 696/166), dpi=166)"
   ]
  },
  {
   "cell_type": "code",
   "execution_count": 14,
   "metadata": {},
   "outputs": [
    {
     "data": {
      "text/plain": [
       "<matplotlib.collections.PathCollection at 0x1e4c1b4a508>"
      ]
     },
     "execution_count": 14,
     "metadata": {},
     "output_type": "execute_result"
    },
    {
     "data": {
      "image/png": "[encoded data removed]",
      "text/plain": [
       "<Figure size 432x288 with 1 Axes>"
      ]
     },
     "metadata": {
      "needs_background": "light"
     },
     "output_type": "display_data"
    }
   ],
   "source": [
    "fig2, ax2 = plt.subplots()\n",
    "ax2.scatter(y_train, X_train['runtime'], c=\"blue\", label=\"Train Data\")"
   ]
  },
  {
   "cell_type": "code",
   "execution_count": 15,
   "metadata": {},
   "outputs": [],
   "source": [
    "fig2.savefig('Resources/images/train_scatter.png', figsize=(1044/166, 696/166), dpi=166)"
   ]
  },
  {
   "cell_type": "code",
   "execution_count": 16,
   "metadata": {},
   "outputs": [],
   "source": [
    "from scipy import stats\n",
    "import numpy as np"
   ]
  },
  {
   "cell_type": "code",
   "execution_count": 17,
   "metadata": {},
   "outputs": [],
   "source": [
    "box_office = data['box_office']\n",
    "runtime = data['runtime']"
   ]
  },
  {
   "cell_type": "code",
   "execution_count": 18,
   "metadata": {},
   "outputs": [],
   "source": [
    "runtime = runtime.astype(np.float64) \n",
    "box_office = box_office.astype(np.float64)"
   ]
  },
  {
   "cell_type": "code",
   "execution_count": 19,
   "metadata": {},
   "outputs": [
    {
     "data": {
      "text/plain": [
       "LinregressResult(slope=1229000.795341421, intercept=-81474722.97531587, rvalue=0.3018815223084715, pvalue=1.2255023475009007e-10, stderr=186303.52230369207)"
      ]
     },
     "execution_count": 19,
     "metadata": {},
     "output_type": "execute_result"
    }
   ],
   "source": [
    "bo_slope, bo_int, bo_r, bo_p, bo_std_err = stats.linregress(\n",
    "    runtime, box_office)\n",
    "bo_fit = bo_slope * runtime + bo_int\n",
    "\n",
    "stats.linregress(runtime, box_office)"
   ]
  },
  {
   "cell_type": "code",
   "execution_count": 20,
   "metadata": {},
   "outputs": [
    {
     "data": {
      "text/plain": [
       "Text(0.5, 0, 'Runtime (mins)')"
      ]
     },
     "execution_count": 20,
     "metadata": {},
     "output_type": "execute_result"
    },
    {
     "data": {
      "image/png": "[encoded data removed]",
      "text/plain": [
       "<Figure size 432x288 with 1 Axes>"
      ]
     },
     "metadata": {
      "needs_background": "light"
     },
     "output_type": "display_data"
    }
   ],
   "source": [
    "fig, ax = plt.subplots()\n",
    "ax.set_xlim(min(data['runtime']), max(data['runtime']))\n",
    "ax.plot(data['runtime'], data['box_office'], linewidth=0, marker=\"o\")\n",
    "ax.set_title(\"Runtime vs Box Office\")\n",
    "ax.set_ylabel(\"Box Office ($ Millions)\")\n",
    "ax.set_xlabel(\"Runtime (mins)\")"
   ]
  },
  {
   "cell_type": "code",
   "execution_count": 21,
   "metadata": {},
   "outputs": [],
   "source": [
    "fig.savefig('Resources/images/runtime_bo.png', figsize=(1044/166, 696/166), dpi=166)"
   ]
  },
  {
   "cell_type": "code",
   "execution_count": 22,
   "metadata": {},
   "outputs": [],
   "source": [
    "box_office = data['box_office']\n",
    "genre = data['genre']"
   ]
  },
  {
   "cell_type": "code",
   "execution_count": 23,
   "metadata": {},
   "outputs": [],
   "source": [
    "genre = genre.astype(np.float64) \n",
    "box_office = box_office.astype(np.float64)"
   ]
  },
  {
   "cell_type": "code",
   "execution_count": 24,
   "metadata": {},
   "outputs": [
    {
     "data": {
      "text/plain": [
       "LinregressResult(slope=18783004.49462893, intercept=-8576971.783309586, rvalue=0.28608990356380276, pvalue=1.1706575559854045e-09, stderr=3019778.5278837783)"
      ]
     },
     "execution_count": 24,
     "metadata": {},
     "output_type": "execute_result"
    }
   ],
   "source": [
    "gn_slope, gn_int, gn_r, gn_p, gn_std_err = stats.linregress(\n",
    "    genre, box_office)\n",
    "gn_fit = gn_slope * runtime + gn_int\n",
    "\n",
    "stats.linregress(genre, box_office)"
   ]
  },
  {
   "cell_type": "code",
   "execution_count": 25,
   "metadata": {},
   "outputs": [
    {
     "data": {
      "text/plain": [
       "Text(0.5, 0, 'Genre (# of categories)')"
      ]
     },
     "execution_count": 25,
     "metadata": {},
     "output_type": "execute_result"
    },
    {
     "data": {
      "image/png": "[encoded data removed]",
      "text/plain": [
       "<Figure size 432x288 with 1 Axes>"
      ]
     },
     "metadata": {
      "needs_background": "light"
     },
     "output_type": "display_data"
    }
   ],
   "source": [
    "fig1, ax1 = plt.subplots()\n",
    "ax1.set_xlim(min(data['genre']), max(data['genre']))\n",
    "ax1.plot(data['genre'], data['box_office'], linewidth=0, marker=\"o\")\n",
    "# ax1.plot(data['genre'], gn_fit, \"r--\", linewidth=1)\n",
    "ax1.set_title(\"Genre vs Box Office\")\n",
    "ax1.set_ylabel(\"Box Office ($ Millions)\")\n",
    "ax1.set_xlabel(\"Genre (# of categories)\")"
   ]
  },
  {
   "cell_type": "code",
   "execution_count": 26,
   "metadata": {},
   "outputs": [],
   "source": [
    "fig1.savefig('Resources/images/genre_bo.png', figsize=(1044/166, 696/166), dpi=166)"
   ]
  },
  {
   "cell_type": "code",
   "execution_count": 46,
   "metadata": {
    "scrolled": true
   },
   "outputs": [
    {
     "data": {
      "text/plain": [
       "Text(0.5, 0.98, '')"
      ]
     },
     "execution_count": 46,
     "metadata": {},
     "output_type": "execute_result"
    },
    {
     "data": {
      "image/png": "[encoded data removed]",
      "text/plain": [
       "<Figure size 432x288 with 1 Axes>"
      ]
     },
     "metadata": {
      "needs_background": "light"
     },
     "output_type": "display_data"
    }
   ],
   "source": [
    "country = data.boxplot(by= 'country', column='box_office', grid=False)\n",
    "fig = country.get_figure()\n",
    "fig.suptitle(\"\")"
   ]
  },
  {
   "cell_type": "code",
   "execution_count": 47,
   "metadata": {},
   "outputs": [],
   "source": [
    "country.figure.savefig('Resources/images/country_bo.png', figsize=(1044/166, 696/166), dpi=166)"
   ]
  },
  {
   "cell_type": "code",
   "execution_count": 48,
   "metadata": {},
   "outputs": [
    {
     "data": {
      "text/plain": [
       "Text(0.5, 0.98, '')"
      ]
     },
     "execution_count": 48,
     "metadata": {},
     "output_type": "execute_result"
    },
    {
     "data": {
      "image/png": "[encoded data removed]",
      "text/plain": [
       "<Figure size 432x288 with 1 Axes>"
      ]
     },
     "metadata": {
      "needs_background": "light"
     },
     "output_type": "display_data"
    }
   ],
   "source": [
    "rating = data1.boxplot(by='rating', column='box_office',grid=False)\n",
    "fig = rating.get_figure()\n",
    "fig.suptitle(\"\")"
   ]
  },
  {
   "cell_type": "code",
   "execution_count": 49,
   "metadata": {},
   "outputs": [],
   "source": [
    "rating.figure.savefig('Resources/images/rating_bo.png', figsize=(1044/166, 696/166), dpi=166)"
   ]
  },
  {
   "cell_type": "code",
   "execution_count": 50,
   "metadata": {},
   "outputs": [
    {
     "data": {
      "text/plain": [
       "Warner Bros. Pictures                             28\n",
       "20th Century Fox                                  23\n",
       "Paramount Pictures                                19\n",
       "Universal Pictures                                17\n",
       "Walt Disney Pictures                              15\n",
       "                                                  ..\n",
       "Superlative Films / Depth of Field Productions     1\n",
       "Miramax/Broad Green                                1\n",
       "Power of 3                                         1\n",
       "Screen Media Films                                 1\n",
       "Hurricane Films                                    1\n",
       "Name: production, Length: 192, dtype: int64"
      ]
     },
     "execution_count": 50,
     "metadata": {},
     "output_type": "execute_result"
    }
   ],
   "source": [
    "data1.production.value_counts()"
   ]
  },
  {
   "cell_type": "code",
   "execution_count": 51,
   "metadata": {},
   "outputs": [
    {
     "data": {
      "text/html": [
       "<div>\n",
       "<style scoped>\n",
       "    .dataframe tbody tr th:only-of-type {\n",
       "        vertical-align: middle;\n",
       "    }\n",
       "\n",
       "    .dataframe tbody tr th {\n",
       "        vertical-align: top;\n",
       "    }\n",
       "\n",
       "    .dataframe thead th {\n",
       "        text-align: right;\n",
       "    }\n",
       "</style>\n",
       "<table border=\"1\" class=\"dataframe\">\n",
       "  <thead>\n",
       "    <tr style=\"text-align: right;\">\n",
       "      <th></th>\n",
       "      <th>box_office</th>\n",
       "      <th>country</th>\n",
       "      <th>genre</th>\n",
       "      <th>production</th>\n",
       "      <th>rating</th>\n",
       "      <th>runtime</th>\n",
       "      <th>title</th>\n",
       "      <th>year</th>\n",
       "    </tr>\n",
       "  </thead>\n",
       "  <tbody>\n",
       "    <tr>\n",
       "      <th>2</th>\n",
       "      <td>37978162</td>\n",
       "      <td>3</td>\n",
       "      <td>5</td>\n",
       "      <td>Paramount Pictures</td>\n",
       "      <td>R</td>\n",
       "      <td>144</td>\n",
       "      <td>13 Hours</td>\n",
       "      <td>2016</td>\n",
       "    </tr>\n",
       "    <tr>\n",
       "      <th>7</th>\n",
       "      <td>8103139</td>\n",
       "      <td>2</td>\n",
       "      <td>6</td>\n",
       "      <td>20th Century Fox</td>\n",
       "      <td>R</td>\n",
       "      <td>146</td>\n",
       "      <td>A Cure for Wellness</td>\n",
       "      <td>2016</td>\n",
       "    </tr>\n",
       "    <tr>\n",
       "      <th>12</th>\n",
       "      <td>77037635</td>\n",
       "      <td>2</td>\n",
       "      <td>3</td>\n",
       "      <td>Walt Disney Pictures</td>\n",
       "      <td>PG</td>\n",
       "      <td>113</td>\n",
       "      <td>Alice Through the Looking Glass</td>\n",
       "      <td>2016</td>\n",
       "    </tr>\n",
       "    <tr>\n",
       "      <th>13</th>\n",
       "      <td>40069087</td>\n",
       "      <td>2</td>\n",
       "      <td>5</td>\n",
       "      <td>Paramount Pictures</td>\n",
       "      <td>R</td>\n",
       "      <td>124</td>\n",
       "      <td>Allied</td>\n",
       "      <td>2016</td>\n",
       "    </tr>\n",
       "    <tr>\n",
       "      <th>22</th>\n",
       "      <td>54645723</td>\n",
       "      <td>6</td>\n",
       "      <td>3</td>\n",
       "      <td>20th Century Fox</td>\n",
       "      <td>PG-13</td>\n",
       "      <td>115</td>\n",
       "      <td>Assassin's Creed</td>\n",
       "      <td>2016</td>\n",
       "    </tr>\n",
       "    <tr>\n",
       "      <th>25</th>\n",
       "      <td>54014580</td>\n",
       "      <td>1</td>\n",
       "      <td>2</td>\n",
       "      <td>Warner Bros. Pictures</td>\n",
       "      <td>PG-13</td>\n",
       "      <td>111</td>\n",
       "      <td>Barbershop: The Next Cut</td>\n",
       "      <td>2016</td>\n",
       "    </tr>\n",
       "    <tr>\n",
       "      <th>27</th>\n",
       "      <td>293792936</td>\n",
       "      <td>1</td>\n",
       "      <td>3</td>\n",
       "      <td>Warner Bros. Pictures</td>\n",
       "      <td>PG-13</td>\n",
       "      <td>151</td>\n",
       "      <td>Batman v Superman: Dawn of Justice</td>\n",
       "      <td>2016</td>\n",
       "    </tr>\n",
       "    <tr>\n",
       "      <th>30</th>\n",
       "      <td>26384681</td>\n",
       "      <td>1</td>\n",
       "      <td>4</td>\n",
       "      <td>Paramount Pictures</td>\n",
       "      <td>PG-13</td>\n",
       "      <td>123</td>\n",
       "      <td>Ben-Hur</td>\n",
       "      <td>2016</td>\n",
       "    </tr>\n",
       "    <tr>\n",
       "      <th>43</th>\n",
       "      <td>408080554</td>\n",
       "      <td>1</td>\n",
       "      <td>3</td>\n",
       "      <td>Walt Disney Pictures</td>\n",
       "      <td>PG-13</td>\n",
       "      <td>147</td>\n",
       "      <td>Captain America: Civil War</td>\n",
       "      <td>2016</td>\n",
       "    </tr>\n",
       "    <tr>\n",
       "      <th>46</th>\n",
       "      <td>127380061</td>\n",
       "      <td>2</td>\n",
       "      <td>3</td>\n",
       "      <td>Warner Bros. Pictures</td>\n",
       "      <td>PG-13</td>\n",
       "      <td>107</td>\n",
       "      <td>Central Intelligence</td>\n",
       "      <td>2016</td>\n",
       "    </tr>\n",
       "    <tr>\n",
       "      <th>56</th>\n",
       "      <td>328674489</td>\n",
       "      <td>1</td>\n",
       "      <td>4</td>\n",
       "      <td>20th Century Fox</td>\n",
       "      <td>R</td>\n",
       "      <td>108</td>\n",
       "      <td>Deadpool</td>\n",
       "      <td>2016</td>\n",
       "    </tr>\n",
       "    <tr>\n",
       "      <th>60</th>\n",
       "      <td>232630718</td>\n",
       "      <td>1</td>\n",
       "      <td>4</td>\n",
       "      <td>Walt Disney Pictures</td>\n",
       "      <td>PG-13</td>\n",
       "      <td>115</td>\n",
       "      <td>Doctor Strange</td>\n",
       "      <td>2016</td>\n",
       "    </tr>\n",
       "    <tr>\n",
       "      <th>66</th>\n",
       "      <td>234018657</td>\n",
       "      <td>2</td>\n",
       "      <td>3</td>\n",
       "      <td>Warner Bros. Pictures</td>\n",
       "      <td>PG-13</td>\n",
       "      <td>132</td>\n",
       "      <td>Fantastic Beasts and Where to Find Them</td>\n",
       "      <td>2016</td>\n",
       "    </tr>\n",
       "    <tr>\n",
       "      <th>67</th>\n",
       "      <td>57642961</td>\n",
       "      <td>2</td>\n",
       "      <td>1</td>\n",
       "      <td>Paramount Pictures</td>\n",
       "      <td>PG-13</td>\n",
       "      <td>139</td>\n",
       "      <td>Fences</td>\n",
       "      <td>2016</td>\n",
       "    </tr>\n",
       "    <tr>\n",
       "      <th>80</th>\n",
       "      <td>27927631</td>\n",
       "      <td>3</td>\n",
       "      <td>4</td>\n",
       "      <td>Universal Pictures</td>\n",
       "      <td>PG-13</td>\n",
       "      <td>106</td>\n",
       "      <td>Hail, Caesar!</td>\n",
       "      <td>2016</td>\n",
       "    </tr>\n",
       "    <tr>\n",
       "      <th>84</th>\n",
       "      <td>169385416</td>\n",
       "      <td>1</td>\n",
       "      <td>3</td>\n",
       "      <td>20th Century Fox</td>\n",
       "      <td>PG</td>\n",
       "      <td>127</td>\n",
       "      <td>Hidden Figures</td>\n",
       "      <td>2016</td>\n",
       "    </tr>\n",
       "    <tr>\n",
       "      <th>87</th>\n",
       "      <td>64060187</td>\n",
       "      <td>1</td>\n",
       "      <td>7</td>\n",
       "      <td>20th Century Fox</td>\n",
       "      <td>PG</td>\n",
       "      <td>94</td>\n",
       "      <td>Ice Age: Collision Course</td>\n",
       "      <td>2016</td>\n",
       "    </tr>\n",
       "    <tr>\n",
       "      <th>89</th>\n",
       "      <td>103137295</td>\n",
       "      <td>1</td>\n",
       "      <td>3</td>\n",
       "      <td>20th Century Fox</td>\n",
       "      <td>PG-13</td>\n",
       "      <td>120</td>\n",
       "      <td>Independence Day: Resurgence</td>\n",
       "      <td>2016</td>\n",
       "    </tr>\n",
       "    <tr>\n",
       "      <th>93</th>\n",
       "      <td>58676235</td>\n",
       "      <td>2</td>\n",
       "      <td>2</td>\n",
       "      <td>Paramount Pictures</td>\n",
       "      <td>PG-13</td>\n",
       "      <td>118</td>\n",
       "      <td>Jack Reacher: Never Go Back</td>\n",
       "      <td>2016</td>\n",
       "    </tr>\n",
       "    <tr>\n",
       "      <th>98</th>\n",
       "      <td>14896798</td>\n",
       "      <td>1</td>\n",
       "      <td>2</td>\n",
       "      <td>20th Century Fox</td>\n",
       "      <td>PG-13</td>\n",
       "      <td>105</td>\n",
       "      <td>Keeping Up with the Joneses</td>\n",
       "      <td>2016</td>\n",
       "    </tr>\n",
       "    <tr>\n",
       "      <th>110</th>\n",
       "      <td>10377558</td>\n",
       "      <td>1</td>\n",
       "      <td>4</td>\n",
       "      <td>Warner Bros. Pictures</td>\n",
       "      <td>R</td>\n",
       "      <td>129</td>\n",
       "      <td>Live by Night</td>\n",
       "      <td>2016</td>\n",
       "    </tr>\n",
       "    <tr>\n",
       "      <th>117</th>\n",
       "      <td>56228651</td>\n",
       "      <td>2</td>\n",
       "      <td>2</td>\n",
       "      <td>Warner Bros. Pictures</td>\n",
       "      <td>PG-13</td>\n",
       "      <td>106</td>\n",
       "      <td>Me Before You</td>\n",
       "      <td>2016</td>\n",
       "    </tr>\n",
       "    <tr>\n",
       "      <th>120</th>\n",
       "      <td>3324164</td>\n",
       "      <td>2</td>\n",
       "      <td>4</td>\n",
       "      <td>Warner Bros. Pictures</td>\n",
       "      <td>PG-13</td>\n",
       "      <td>112</td>\n",
       "      <td>Midnight Special</td>\n",
       "      <td>2016</td>\n",
       "    </tr>\n",
       "    <tr>\n",
       "      <th>121</th>\n",
       "      <td>46007113</td>\n",
       "      <td>1</td>\n",
       "      <td>2</td>\n",
       "      <td>20th Century Fox</td>\n",
       "      <td>R</td>\n",
       "      <td>98</td>\n",
       "      <td>Mike and Dave Need Wedding Dates</td>\n",
       "      <td>2016</td>\n",
       "    </tr>\n",
       "    <tr>\n",
       "      <th>122</th>\n",
       "      <td>87240689</td>\n",
       "      <td>4</td>\n",
       "      <td>4</td>\n",
       "      <td>20th Century Fox</td>\n",
       "      <td>PG-13</td>\n",
       "      <td>127</td>\n",
       "      <td>Miss Peregrine's Home for Peculiar Children</td>\n",
       "      <td>2016</td>\n",
       "    </tr>\n",
       "    <tr>\n",
       "      <th>125</th>\n",
       "      <td>248752120</td>\n",
       "      <td>1</td>\n",
       "      <td>6</td>\n",
       "      <td>Walt Disney Pictures</td>\n",
       "      <td>PG</td>\n",
       "      <td>107</td>\n",
       "      <td>Moana</td>\n",
       "      <td>2016</td>\n",
       "    </tr>\n",
       "    <tr>\n",
       "      <th>143</th>\n",
       "      <td>54730514</td>\n",
       "      <td>2</td>\n",
       "      <td>1</td>\n",
       "      <td>Paramount Pictures</td>\n",
       "      <td>R</td>\n",
       "      <td>105</td>\n",
       "      <td>Office Christmas Party</td>\n",
       "      <td>2016</td>\n",
       "    </tr>\n",
       "    <tr>\n",
       "      <th>146</th>\n",
       "      <td>34904885</td>\n",
       "      <td>1</td>\n",
       "      <td>4</td>\n",
       "      <td>Universal Pictures</td>\n",
       "      <td>PG-13</td>\n",
       "      <td>99</td>\n",
       "      <td>Ouija: Origin of Evil</td>\n",
       "      <td>2016</td>\n",
       "    </tr>\n",
       "    <tr>\n",
       "      <th>151</th>\n",
       "      <td>76228119</td>\n",
       "      <td>1</td>\n",
       "      <td>6</td>\n",
       "      <td>Walt Disney Pictures</td>\n",
       "      <td>PG</td>\n",
       "      <td>102</td>\n",
       "      <td>Pete's Dragon</td>\n",
       "      <td>2016</td>\n",
       "    </tr>\n",
       "    <tr>\n",
       "      <th>160</th>\n",
       "      <td>532171696</td>\n",
       "      <td>1</td>\n",
       "      <td>3</td>\n",
       "      <td>Walt Disney Pictures</td>\n",
       "      <td>PG-13</td>\n",
       "      <td>133</td>\n",
       "      <td>Rogue One: A Star Wars Story</td>\n",
       "      <td>2016</td>\n",
       "    </tr>\n",
       "    <tr>\n",
       "      <th>...</th>\n",
       "      <td>...</td>\n",
       "      <td>...</td>\n",
       "      <td>...</td>\n",
       "      <td>...</td>\n",
       "      <td>...</td>\n",
       "      <td>...</td>\n",
       "      <td>...</td>\n",
       "      <td>...</td>\n",
       "    </tr>\n",
       "    <tr>\n",
       "      <th>293</th>\n",
       "      <td>175428355</td>\n",
       "      <td>2</td>\n",
       "      <td>3</td>\n",
       "      <td>Universal Pictures</td>\n",
       "      <td>R</td>\n",
       "      <td>104</td>\n",
       "      <td>Get Out</td>\n",
       "      <td>2017</td>\n",
       "    </tr>\n",
       "    <tr>\n",
       "      <th>294</th>\n",
       "      <td>40533014</td>\n",
       "      <td>5</td>\n",
       "      <td>4</td>\n",
       "      <td>Paramount Pictures</td>\n",
       "      <td>PG-13</td>\n",
       "      <td>107</td>\n",
       "      <td>Ghost in the Shell</td>\n",
       "      <td>2017</td>\n",
       "    </tr>\n",
       "    <tr>\n",
       "      <th>296</th>\n",
       "      <td>115088305</td>\n",
       "      <td>2</td>\n",
       "      <td>3</td>\n",
       "      <td>Universal Pictures</td>\n",
       "      <td>R</td>\n",
       "      <td>122</td>\n",
       "      <td>Girls Trip</td>\n",
       "      <td>2017</td>\n",
       "    </tr>\n",
       "    <tr>\n",
       "      <th>299</th>\n",
       "      <td>389804217</td>\n",
       "      <td>1</td>\n",
       "      <td>4</td>\n",
       "      <td>Walt Disney Pictures</td>\n",
       "      <td>PG-13</td>\n",
       "      <td>136</td>\n",
       "      <td>Guardians of the Galaxy Vol. 2</td>\n",
       "      <td>2017</td>\n",
       "    </tr>\n",
       "    <tr>\n",
       "      <th>309</th>\n",
       "      <td>326898358</td>\n",
       "      <td>2</td>\n",
       "      <td>1</td>\n",
       "      <td>Warner Bros. Pictures</td>\n",
       "      <td>R</td>\n",
       "      <td>135</td>\n",
       "      <td>It</td>\n",
       "      <td>2017</td>\n",
       "    </tr>\n",
       "    <tr>\n",
       "      <th>314</th>\n",
       "      <td>227032490</td>\n",
       "      <td>3</td>\n",
       "      <td>4</td>\n",
       "      <td>Warner Bros. Pictures</td>\n",
       "      <td>PG-13</td>\n",
       "      <td>120</td>\n",
       "      <td>Justice League</td>\n",
       "      <td>2017</td>\n",
       "    </tr>\n",
       "    <tr>\n",
       "      <th>317</th>\n",
       "      <td>39037047</td>\n",
       "      <td>2</td>\n",
       "      <td>4</td>\n",
       "      <td>Warner Bros. Pictures</td>\n",
       "      <td>PG-13</td>\n",
       "      <td>126</td>\n",
       "      <td>King Arthur: Legend of the Sword</td>\n",
       "      <td>2017</td>\n",
       "    </tr>\n",
       "    <tr>\n",
       "      <th>318</th>\n",
       "      <td>99733121</td>\n",
       "      <td>2</td>\n",
       "      <td>3</td>\n",
       "      <td>20th Century Fox</td>\n",
       "      <td>R</td>\n",
       "      <td>141</td>\n",
       "      <td>Kingsman: The Golden Circle</td>\n",
       "      <td>2017</td>\n",
       "    </tr>\n",
       "    <tr>\n",
       "      <th>323</th>\n",
       "      <td>226276809</td>\n",
       "      <td>1</td>\n",
       "      <td>4</td>\n",
       "      <td>20th Century Fox</td>\n",
       "      <td>R</td>\n",
       "      <td>137</td>\n",
       "      <td>Logan</td>\n",
       "      <td>2017</td>\n",
       "    </tr>\n",
       "    <tr>\n",
       "      <th>331</th>\n",
       "      <td>17297289</td>\n",
       "      <td>1</td>\n",
       "      <td>3</td>\n",
       "      <td>Paramount Pictures</td>\n",
       "      <td>R</td>\n",
       "      <td>121</td>\n",
       "      <td>Mother!</td>\n",
       "      <td>2017</td>\n",
       "    </tr>\n",
       "    <tr>\n",
       "      <th>332</th>\n",
       "      <td>101555644</td>\n",
       "      <td>2</td>\n",
       "      <td>3</td>\n",
       "      <td>20th Century Fox</td>\n",
       "      <td>PG-13</td>\n",
       "      <td>114</td>\n",
       "      <td>Murder on the Orient Express</td>\n",
       "      <td>2017</td>\n",
       "    </tr>\n",
       "    <tr>\n",
       "      <th>343</th>\n",
       "      <td>172537139</td>\n",
       "      <td>1</td>\n",
       "      <td>3</td>\n",
       "      <td>Walt Disney Pictures</td>\n",
       "      <td>PG-13</td>\n",
       "      <td>129</td>\n",
       "      <td>Pirates of the Caribbean: Dead Men Tell No Tales</td>\n",
       "      <td>2017</td>\n",
       "    </tr>\n",
       "    <tr>\n",
       "      <th>344</th>\n",
       "      <td>104880310</td>\n",
       "      <td>1</td>\n",
       "      <td>2</td>\n",
       "      <td>Universal Pictures</td>\n",
       "      <td>PG-13</td>\n",
       "      <td>93</td>\n",
       "      <td>Pitch Perfect 3</td>\n",
       "      <td>2017</td>\n",
       "    </tr>\n",
       "    <tr>\n",
       "      <th>348</th>\n",
       "      <td>27766716</td>\n",
       "      <td>1</td>\n",
       "      <td>4</td>\n",
       "      <td>Paramount Pictures</td>\n",
       "      <td>PG-13</td>\n",
       "      <td>102</td>\n",
       "      <td>Rings</td>\n",
       "      <td>2017</td>\n",
       "    </tr>\n",
       "    <tr>\n",
       "      <th>356</th>\n",
       "      <td>45850343</td>\n",
       "      <td>1</td>\n",
       "      <td>3</td>\n",
       "      <td>20th Century Fox</td>\n",
       "      <td>R</td>\n",
       "      <td>90</td>\n",
       "      <td>Snatched</td>\n",
       "      <td>2017</td>\n",
       "    </tr>\n",
       "    <tr>\n",
       "      <th>359</th>\n",
       "      <td>619117636</td>\n",
       "      <td>1</td>\n",
       "      <td>4</td>\n",
       "      <td>Walt Disney Pictures</td>\n",
       "      <td>PG-13</td>\n",
       "      <td>152</td>\n",
       "      <td>Star Wars: Episode VIII - The Last Jedi</td>\n",
       "      <td>2017</td>\n",
       "    </tr>\n",
       "    <tr>\n",
       "      <th>377</th>\n",
       "      <td>225697400</td>\n",
       "      <td>3</td>\n",
       "      <td>3</td>\n",
       "      <td>Universal Pictures</td>\n",
       "      <td>PG-13</td>\n",
       "      <td>136</td>\n",
       "      <td>The Fate of the Furious</td>\n",
       "      <td>2017</td>\n",
       "    </tr>\n",
       "    <tr>\n",
       "      <th>381</th>\n",
       "      <td>164616443</td>\n",
       "      <td>1</td>\n",
       "      <td>3</td>\n",
       "      <td>20th Century Fox</td>\n",
       "      <td>PG</td>\n",
       "      <td>105</td>\n",
       "      <td>The Greatest Showman</td>\n",
       "      <td>2017</td>\n",
       "    </tr>\n",
       "    <tr>\n",
       "      <th>384</th>\n",
       "      <td>25563273</td>\n",
       "      <td>1</td>\n",
       "      <td>2</td>\n",
       "      <td>Warner Bros. Pictures</td>\n",
       "      <td>R</td>\n",
       "      <td>88</td>\n",
       "      <td>The House</td>\n",
       "      <td>2017</td>\n",
       "    </tr>\n",
       "    <tr>\n",
       "      <th>386</th>\n",
       "      <td>175686290</td>\n",
       "      <td>2</td>\n",
       "      <td>4</td>\n",
       "      <td>Warner Bros. Pictures</td>\n",
       "      <td>PG</td>\n",
       "      <td>104</td>\n",
       "      <td>The Lego Batman Movie</td>\n",
       "      <td>2017</td>\n",
       "    </tr>\n",
       "    <tr>\n",
       "      <th>387</th>\n",
       "      <td>58938889</td>\n",
       "      <td>3</td>\n",
       "      <td>5</td>\n",
       "      <td>Warner Bros. Pictures</td>\n",
       "      <td>PG</td>\n",
       "      <td>101</td>\n",
       "      <td>The Lego Ninjago Movie</td>\n",
       "      <td>2017</td>\n",
       "    </tr>\n",
       "    <tr>\n",
       "      <th>390</th>\n",
       "      <td>29669726</td>\n",
       "      <td>1</td>\n",
       "      <td>5</td>\n",
       "      <td>20th Century Fox</td>\n",
       "      <td>PG-13</td>\n",
       "      <td>112</td>\n",
       "      <td>The Mountain Between Us</td>\n",
       "      <td>2017</td>\n",
       "    </tr>\n",
       "    <tr>\n",
       "      <th>391</th>\n",
       "      <td>80072590</td>\n",
       "      <td>3</td>\n",
       "      <td>4</td>\n",
       "      <td>Universal Pictures</td>\n",
       "      <td>PG-13</td>\n",
       "      <td>110</td>\n",
       "      <td>The Mummy</td>\n",
       "      <td>2017</td>\n",
       "    </tr>\n",
       "    <tr>\n",
       "      <th>394</th>\n",
       "      <td>80369969</td>\n",
       "      <td>2</td>\n",
       "      <td>4</td>\n",
       "      <td>20th Century Fox</td>\n",
       "      <td>PG-13</td>\n",
       "      <td>116</td>\n",
       "      <td>The Post</td>\n",
       "      <td>2017</td>\n",
       "    </tr>\n",
       "    <tr>\n",
       "      <th>407</th>\n",
       "      <td>314971245</td>\n",
       "      <td>1</td>\n",
       "      <td>5</td>\n",
       "      <td>Walt Disney Pictures</td>\n",
       "      <td>PG-13</td>\n",
       "      <td>130</td>\n",
       "      <td>Thor: Ragnarok</td>\n",
       "      <td>2017</td>\n",
       "    </tr>\n",
       "    <tr>\n",
       "      <th>414</th>\n",
       "      <td>130104634</td>\n",
       "      <td>3</td>\n",
       "      <td>3</td>\n",
       "      <td>Paramount Pictures</td>\n",
       "      <td>PG-13</td>\n",
       "      <td>154</td>\n",
       "      <td>Transformers: The Last Knight</td>\n",
       "      <td>2017</td>\n",
       "    </tr>\n",
       "    <tr>\n",
       "      <th>417</th>\n",
       "      <td>11274490</td>\n",
       "      <td>1</td>\n",
       "      <td>2</td>\n",
       "      <td>Warner Bros. Pictures</td>\n",
       "      <td>R</td>\n",
       "      <td>100</td>\n",
       "      <td>Unforgettable</td>\n",
       "      <td>2017</td>\n",
       "    </tr>\n",
       "    <tr>\n",
       "      <th>423</th>\n",
       "      <td>146872826</td>\n",
       "      <td>3</td>\n",
       "      <td>5</td>\n",
       "      <td>20th Century Fox</td>\n",
       "      <td>PG-13</td>\n",
       "      <td>140</td>\n",
       "      <td>War for the Planet of the Apes</td>\n",
       "      <td>2017</td>\n",
       "    </tr>\n",
       "    <tr>\n",
       "      <th>430</th>\n",
       "      <td>412400625</td>\n",
       "      <td>3</td>\n",
       "      <td>5</td>\n",
       "      <td>Warner Bros. Pictures</td>\n",
       "      <td>PG-13</td>\n",
       "      <td>141</td>\n",
       "      <td>Wonder Woman</td>\n",
       "      <td>2017</td>\n",
       "    </tr>\n",
       "    <tr>\n",
       "      <th>435</th>\n",
       "      <td>44850317</td>\n",
       "      <td>3</td>\n",
       "      <td>3</td>\n",
       "      <td>Paramount Pictures</td>\n",
       "      <td>PG-13</td>\n",
       "      <td>107</td>\n",
       "      <td>xXx: Return of Xander Cage</td>\n",
       "      <td>2017</td>\n",
       "    </tr>\n",
       "  </tbody>\n",
       "</table>\n",
       "<p>102 rows × 8 columns</p>\n",
       "</div>"
      ],
      "text/plain": [
       "     box_office  country  genre             production rating  runtime  \\\n",
       "2      37978162        3      5     Paramount Pictures      R      144   \n",
       "7       8103139        2      6       20th Century Fox      R      146   \n",
       "12     77037635        2      3   Walt Disney Pictures     PG      113   \n",
       "13     40069087        2      5     Paramount Pictures      R      124   \n",
       "22     54645723        6      3       20th Century Fox  PG-13      115   \n",
       "..          ...      ...    ...                    ...    ...      ...   \n",
       "414   130104634        3      3     Paramount Pictures  PG-13      154   \n",
       "417    11274490        1      2  Warner Bros. Pictures      R      100   \n",
       "423   146872826        3      5       20th Century Fox  PG-13      140   \n",
       "430   412400625        3      5  Warner Bros. Pictures  PG-13      141   \n",
       "435    44850317        3      3     Paramount Pictures  PG-13      107   \n",
       "\n",
       "                               title  year  \n",
       "2                           13 Hours  2016  \n",
       "7                A Cure for Wellness  2016  \n",
       "12   Alice Through the Looking Glass  2016  \n",
       "13                            Allied  2016  \n",
       "22                  Assassin's Creed  2016  \n",
       "..                               ...   ...  \n",
       "414    Transformers: The Last Knight  2017  \n",
       "417                    Unforgettable  2017  \n",
       "423   War for the Planet of the Apes  2017  \n",
       "430                     Wonder Woman  2017  \n",
       "435       xXx: Return of Xander Cage  2017  \n",
       "\n",
       "[102 rows x 8 columns]"
      ]
     },
     "execution_count": 51,
     "metadata": {},
     "output_type": "execute_result"
    }
   ],
   "source": [
    "filter_list = ['Warner Bros. Pictures','20th Century Fox','Paramount Pictures','Universal Pictures','Walt Disney Pictures']\n",
    "data1 = data1[data1.production.isin(filter_list)]\n",
    "data1"
   ]
  },
  {
   "cell_type": "code",
   "execution_count": 54,
   "metadata": {},
   "outputs": [
    {
     "data": {
      "text/plain": [
       "Text(0.5, 0.98, '')"
      ]
     },
     "execution_count": 54,
     "metadata": {},
     "output_type": "execute_result"
    },
    {
     "data": {
      "image/png": "[encoded data removed]",
      "text/plain": [
       "<Figure size 432x288 with 1 Axes>"
      ]
     },
     "metadata": {
      "needs_background": "light"
     },
     "output_type": "display_data"
    }
   ],
   "source": [
    "boxplot2 = data1.boxplot(by='production', column='box_office',grid=False, rot =15)\n",
    "fig = boxplot2.get_figure()\n",
    "fig.suptitle(\"\")"
   ]
  },
  {
   "cell_type": "code",
   "execution_count": 55,
   "metadata": {},
   "outputs": [],
   "source": [
    "boxplot2.figure.savefig('Resources/images/production_bo.png', figsize=(1044/166, 696/166), dpi=166)"
   ]
  },
  {
   "cell_type": "code",
   "execution_count": null,
   "metadata": {},
   "outputs": [],
   "source": []
  }
 ],
 "metadata": {
  "kernelspec": {
   "display_name": "Python 3",
   "language": "python",
   "name": "python3"
  },
  "language_info": {
   "codemirror_mode": {
    "name": "ipython",
    "version": 3
   },
   "file_extension": ".py",
   "mimetype": "text/x-python",
   "name": "python",
   "nbconvert_exporter": "python",
   "pygments_lexer": "ipython3",
   "version": "3.7.3"
  }
 },
 "nbformat": 4,
 "nbformat_minor": 2
}
