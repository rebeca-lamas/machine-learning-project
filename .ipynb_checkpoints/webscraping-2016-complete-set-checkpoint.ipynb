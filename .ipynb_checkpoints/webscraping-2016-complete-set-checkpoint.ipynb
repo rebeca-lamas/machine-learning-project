{
 "cells": [
  {
   "cell_type": "code",
   "execution_count": 1,
   "metadata": {},
   "outputs": [],
   "source": [
    "from bs4 import BeautifulSoup as bs\n",
    "import bs4\n",
    "import pandas as pd\n",
    "import requests\n",
    "import json\n",
    "from pprint import pprint\n",
    "import ast\n",
    "import pandas as pd"
   ]
  },
  {
   "cell_type": "code",
   "execution_count": 2,
   "metadata": {},
   "outputs": [],
   "source": [
    "# url_2020 = \"https://www.imdb.com/list/ls071285764/\"\n",
    "# url_2019 = \"https://www.imdb.com/list/ls071285512/\"\n",
    "# url_2018 = \"https://www.imdb.com/list/ls058813655/\"\n",
    "# url_2017 = \"https://www.imdb.com/list/ls058982125/\"\n",
    "url_2016 = \"https://www.imdb.com/search/title/?at=0&countries=us&sort=alpha&title_type=feature&year=2016,2016\"\n",
    "url_list = [url_2016]"
   ]
  },
  {
   "cell_type": "code",
   "execution_count": 3,
   "metadata": {},
   "outputs": [
    {
     "ename": "IndexError",
     "evalue": "list index out of range",
     "output_type": "error",
     "traceback": [
      "\u001b[1;31m---------------------------------------------------------------------------\u001b[0m",
      "\u001b[1;31mIndexError\u001b[0m                                Traceback (most recent call last)",
      "\u001b[1;32m<ipython-input-3-cc801947c11d>\u001b[0m in \u001b[0;36m<module>\u001b[1;34m\u001b[0m\n\u001b[0;32m     15\u001b[0m     \u001b[0mdata\u001b[0m \u001b[1;33m=\u001b[0m \u001b[1;34m\" \"\u001b[0m\u001b[1;33m.\u001b[0m\u001b[0mjoin\u001b[0m\u001b[1;33m(\u001b[0m\u001b[0mdata\u001b[0m\u001b[1;33m.\u001b[0m\u001b[0msplit\u001b[0m\u001b[1;33m(\u001b[0m\u001b[1;33m)\u001b[0m\u001b[1;33m)\u001b[0m\u001b[1;33m\u001b[0m\u001b[1;33m\u001b[0m\u001b[0m\n\u001b[0;32m     16\u001b[0m     \u001b[0mdata\u001b[0m \u001b[1;33m=\u001b[0m \u001b[0mdata\u001b[0m\u001b[1;33m.\u001b[0m\u001b[0msplit\u001b[0m\u001b[1;33m(\u001b[0m\u001b[1;34m'\"itemListElement\": [ '\u001b[0m\u001b[1;33m)\u001b[0m\u001b[1;33m\u001b[0m\u001b[1;33m\u001b[0m\u001b[0m\n\u001b[1;32m---> 17\u001b[1;33m     \u001b[0mdata\u001b[0m \u001b[1;33m=\u001b[0m \u001b[0mdata\u001b[0m\u001b[1;33m[\u001b[0m\u001b[1;36m1\u001b[0m\u001b[1;33m]\u001b[0m\u001b[1;33m\u001b[0m\u001b[1;33m\u001b[0m\u001b[0m\n\u001b[0m\u001b[0;32m     18\u001b[0m     \u001b[0mdata\u001b[0m \u001b[1;33m=\u001b[0m \u001b[0mdata\u001b[0m\u001b[1;33m.\u001b[0m\u001b[0msplit\u001b[0m\u001b[1;33m(\u001b[0m\u001b[1;34m' ] }, \"dateModified\":'\u001b[0m\u001b[1;33m)\u001b[0m\u001b[1;33m\u001b[0m\u001b[1;33m\u001b[0m\u001b[0m\n\u001b[0;32m     19\u001b[0m     \u001b[0mdata\u001b[0m \u001b[1;33m=\u001b[0m \u001b[0mdata\u001b[0m\u001b[1;33m[\u001b[0m\u001b[1;36m0\u001b[0m\u001b[1;33m]\u001b[0m\u001b[1;33m\u001b[0m\u001b[1;33m\u001b[0m\u001b[0m\n",
      "\u001b[1;31mIndexError\u001b[0m: list index out of range"
     ]
    }
   ],
   "source": [
    "movie_list_id_2016 = []\n",
    "movie_list_id_2017 = []\n",
    "movie_list_id_2018 = []\n",
    "movie_list_id_2019 = []\n",
    "movie_list_id_2020 = []\n",
    "for url in url_list:\n",
    "    response = requests.get(url)\n",
    "    soup = bs(response.text, \"html.parser\")\n",
    "    s = soup.findAll('script')\n",
    "    data = s[11]\n",
    "    paragraphs = []\n",
    "    for x in data:\n",
    "        paragraphs.append(str(x))\n",
    "    data = paragraphs[0].replace(\"\\n\",\"\") \n",
    "    data = \" \".join(data.split())\n",
    "    data = data.split('\"itemListElement\": [ ')\n",
    "    data = data[1]\n",
    "    data = data.split(' ] }, \"dateModified\":')\n",
    "    data = data[0]\n",
    "    data = ast.literal_eval(data)\n",
    "    data = list(data)\n",
    "    if url == url_2016:\n",
    "        for i in range(len(data)):\n",
    "            movie_url = data[i]['url']\n",
    "            split = movie_url.split('title/')\n",
    "            movie_id = split[1]\n",
    "            movie_id = movie_id.replace('/', '')\n",
    "            movie_list_id_2016.append(movie_id)\n",
    "        print('finished 2016')\n",
    "    elif url == url_2017:\n",
    "        for i in range(len(data)):\n",
    "            movie_url = data[i]['url']\n",
    "            split = movie_url.split('title/')\n",
    "            movie_id = split[1]\n",
    "            movie_id = movie_id.replace('/', '')\n",
    "            movie_list_id_2017.append(movie_id)\n",
    "        print('finished 2017')\n",
    "    elif url == url_2018:\n",
    "        for i in range(len(data)):\n",
    "            movie_url = data[i]['url']\n",
    "            split = movie_url.split('title/')\n",
    "            movie_id = split[1]\n",
    "            movie_id = movie_id.replace('/', '')\n",
    "            movie_list_id_2018.append(movie_id)\n",
    "        print('finished 2018')\n",
    "    elif url == url_2019:\n",
    "        for i in range(len(data)):\n",
    "            movie_url = data[i]['url']\n",
    "            split = movie_url.split('title/')\n",
    "            movie_id = split[1]\n",
    "            movie_id = movie_id.replace('/', '')\n",
    "            movie_list_id_2019.append(movie_id)\n",
    "        print('finished 2019')\n",
    "    else:\n",
    "        for i in range(len(data)):\n",
    "            movie_url = data[i]['url']\n",
    "            split = movie_url.split('title/')\n",
    "            movie_id = split[1]\n",
    "            movie_id = movie_id.replace('/', '')\n",
    "            movie_list_id_2020.append(movie_id)\n",
    "        print('finished 2020')"
   ]
  },
  {
   "cell_type": "code",
   "execution_count": 4,
   "metadata": {},
   "outputs": [
    {
     "name": "stdout",
     "output_type": "stream",
     "text": [
      "2016 movies: []\n",
      "2017 movies: []\n",
      "2018 movies: []\n",
      "2019 movies: []\n",
      "2020 movies: []\n"
     ]
    }
   ],
   "source": [
    "print(f'2016 movies: {movie_list_id_2016}')\n",
    "print(f'2017 movies: {movie_list_id_2017}')\n",
    "print(f'2018 movies: {movie_list_id_2018}')\n",
    "print(f'2019 movies: {movie_list_id_2019}')\n",
    "print(f'2020 movies: {movie_list_id_2020}')"
   ]
  },
  {
   "cell_type": "code",
   "execution_count": 17,
   "metadata": {},
   "outputs": [],
   "source": [
    "# df_2016 = pd.DataFrame({\"2016_movies\": movie_list_id_2016})\n",
    "# export_2016 = df_2016.to_csv(\"Resources/movies_titles_2016.csv\", index = None, header=True)"
   ]
  },
  {
   "cell_type": "code",
   "execution_count": 12,
   "metadata": {},
   "outputs": [],
   "source": [
    "# df_2017 = pd.DataFrame({\"2017_movies\": movie_list_id_2017})\n",
    "# export_2017 = df_2017.to_csv(\"Resources/movies_titles_2017.csv\", index = None, header=True)"
   ]
  },
  {
   "cell_type": "code",
   "execution_count": 13,
   "metadata": {},
   "outputs": [],
   "source": [
    "# df_2018 = pd.DataFrame({\"2018_movies\": movie_list_id_2018})\n",
    "# export_2018 = df_2018.to_csv(\"Resources/movies_titles_2018.csv\", index = None, header=True)"
   ]
  },
  {
   "cell_type": "code",
   "execution_count": 14,
   "metadata": {},
   "outputs": [],
   "source": [
    "# df_2019 = pd.DataFrame({\"2019_movies\": movie_list_id_2019})\n",
    "# export_2019 = df_2019.to_csv(\"Resources/movies_titles_2019.csv\", index = None, header=True)"
   ]
  },
  {
   "cell_type": "code",
   "execution_count": 15,
   "metadata": {},
   "outputs": [],
   "source": [
    "# df_2020 = pd.DataFrame({\"2020_movies\": movie_list_id_2020})\n",
    "# export_2020 = df_2020.to_csv(\"Resources/movies_titles_2020.csv\", index = None, header=True)"
   ]
  },
  {
   "cell_type": "code",
   "execution_count": null,
   "metadata": {},
   "outputs": [],
   "source": []
  }
 ],
 "metadata": {
  "kernelspec": {
   "display_name": "Python 3",
   "language": "python",
   "name": "python3"
  },
  "language_info": {
   "codemirror_mode": {
    "name": "ipython",
    "version": 3
   },
   "file_extension": ".py",
   "mimetype": "text/x-python",
   "name": "python",
   "nbconvert_exporter": "python",
   "pygments_lexer": "ipython3",
   "version": "3.7.4"
  }
 },
 "nbformat": 4,
 "nbformat_minor": 2
}
